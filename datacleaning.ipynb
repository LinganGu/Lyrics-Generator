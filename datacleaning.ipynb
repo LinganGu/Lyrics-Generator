{
 "cells": [
  {
   "cell_type": "code",
   "metadata": {
    "tags": [],
    "cell_id": "00000-64872a03-857f-4954-9751-852bc42a2826",
    "deepnote_to_be_reexecuted": false,
    "source_hash": "8ae7803",
    "execution_start": 1636179796364,
    "execution_millis": 14688,
    "deepnote_cell_type": "code"
   },
   "source": "import texthero as hero\nimport pandas as pd\n",
   "outputs": [
    {
     "name": "stderr",
     "text": "[nltk_data] Downloading package stopwords to /root/nltk_data...\n[nltk_data]   Unzipping corpora/stopwords.zip.\n\u001b[38;5;2m✔ Download and installation successful\u001b[0m\nYou can now load the model via spacy.load('en_core_web_sm')\n",
     "output_type": "stream"
    }
   ],
   "execution_count": null
  },
  {
   "cell_type": "code",
   "metadata": {
    "tags": [],
    "cell_id": "00001-ea2ca29d-59fd-4027-b69a-a845d011a409",
    "deepnote_cell_type": "code"
   },
   "source": "",
   "execution_count": null,
   "outputs": []
  },
  {
   "cell_type": "code",
   "metadata": {
    "tags": [],
    "cell_id": "00001-83488af7-79ec-40b4-9f92-012c828d7183",
    "deepnote_to_be_reexecuted": false,
    "source_hash": "45ace7b2",
    "execution_start": 1636179811061,
    "execution_millis": 18,
    "deepnote_cell_type": "code"
   },
   "source": "df1 = pd.read_csv(\"1.csv\", header=None, names=['album','style', 'gender', 'title', 'lyrics'])",
   "outputs": [],
   "execution_count": null
  },
  {
   "cell_type": "code",
   "metadata": {
    "tags": [],
    "cell_id": "00003-6dc73105-d10c-45f1-bce1-6b6ca41fc9f7",
    "deepnote_to_be_reexecuted": false,
    "source_hash": "313e388e",
    "execution_start": 1636179811135,
    "execution_millis": 0,
    "deepnote_cell_type": "code"
   },
   "source": "df2x = pd.read_csv(\"2.csv\", header=None, names=['album','style', 'gender', 'title', 'lyrics'])\ndf2 = df2x.replace('jazzrap','trap')",
   "outputs": [],
   "execution_count": null
  },
  {
   "cell_type": "code",
   "metadata": {
    "tags": [],
    "cell_id": "00001-c358601b-8173-46e2-a387-0074a6160a50",
    "deepnote_to_be_reexecuted": false,
    "source_hash": "245fe8fd",
    "execution_start": 1636179811135,
    "execution_millis": 0,
    "deepnote_cell_type": "code"
   },
   "source": "df3x = pd.read_csv(\"3.csv\", header=None, names=['album','style', 'gender', 'title', 'lyrics'])\ndf3 = df3x.replace('jazzrap','poprap')\n",
   "outputs": [],
   "execution_count": null
  },
  {
   "cell_type": "code",
   "metadata": {
    "tags": [],
    "cell_id": "00005-1a30e570-253e-429b-8648-6542ac9bc05d",
    "deepnote_to_be_reexecuted": false,
    "source_hash": "b98fb4e0",
    "execution_start": 1636179811175,
    "execution_millis": 43,
    "deepnote_cell_type": "code"
   },
   "source": "df = pd.concat([df1,df2,df3])\ndf",
   "outputs": [
    {
     "output_type": "execute_result",
     "execution_count": 5,
     "data": {
      "application/vnd.deepnote.dataframe.v2+json": {
       "row_count": 413,
       "column_count": 5,
       "columns": [
        {
         "name": "album",
         "dtype": "object",
         "stats": {
          "unique_count": 85,
          "nan_count": 0,
          "categories": [
           {
            "name": "The Fool",
            "count": 12
           },
           {
            "name": "Bin Reaper",
            "count": 9
           },
           {
            "name": "83 others",
            "count": 392
           }
          ]
         }
        },
        {
         "name": "style",
         "dtype": "object",
         "stats": {
          "unique_count": 4,
          "nan_count": 0,
          "categories": [
           {
            "name": "trap",
            "count": 155
           },
           {
            "name": "jazzrap",
            "count": 136
           },
           {
            "name": "2 others",
            "count": 122
           }
          ]
         }
        },
        {
         "name": "gender",
         "dtype": "object",
         "stats": {
          "unique_count": 5,
          "nan_count": 0,
          "categories": [
           {
            "name": "male",
            "count": 297
           },
           {
            "name": "female/male",
            "count": 60
           },
           {
            "name": "3 others",
            "count": 56
           }
          ]
         }
        },
        {
         "name": "title",
         "dtype": "object",
         "stats": {
          "unique_count": 403,
          "nan_count": 0,
          "categories": [
           {
            "name": "Intro",
            "count": 4
           },
           {
            "name": "Song name",
            "count": 2
           },
           {
            "name": "401 others",
            "count": 407
           }
          ]
         }
        },
        {
         "name": "lyrics",
         "dtype": "object",
         "stats": {
          "unique_count": 405,
          "nan_count": 2,
          "categories": [
           {
            "name": "Lyrics",
            "count": 3
           },
           {
            "name": "404 others",
            "count": 408
           },
           {
            "name": "Missing",
            "count": 2
           }
          ]
         }
        },
        {
         "name": "_deepnote_index_column",
         "dtype": "float64"
        }
       ],
       "rows_top": [
        {
         "album": "Album",
         "style": "style",
         "gender": "Gender",
         "title": "Song name",
         "lyrics": "Lyrics",
         "_deepnote_index_column": "nan"
        },
        {
         "album": "To Pimp a Butterfly",
         "style": "jazzrap",
         "gender": "male",
         "title": "Wesley's Theory (Ft. George Clinton & Thundercat)",
         "lyrics": "\nSample: Boris Gardiner\nEvery nigga is a star, ayy, every nigga is a star\nEvery nigga is a star, ay…",
         "_deepnote_index_column": 0
        },
        {
         "album": "To Pimp a Butterfly",
         "style": "jazzrap",
         "gender": "male",
         "title": "For Free? (Interlude)",
         "lyrics": "Fuck you, motherfucker, you a ho-ass nigga\nI don't know why you trying to go big, nigga, you ain't …",
         "_deepnote_index_column": 1
        },
        {
         "album": "To Pimp a Butterfly",
         "style": "jazzrap",
         "gender": "male",
         "title": "King Kunta",
         "lyrics": "I got a bone to pick\nI don't want you monkey-mouth motherfuckers\nSittin' in my throne again\nAyy, ay…",
         "_deepnote_index_column": 2
        },
        {
         "album": "To Pimp a Butterfly",
         "style": "jazzrap",
         "gender": "male",
         "title": "Institutionalized (Ft. Anna Wise, Bilal & Snoop Dogg)",
         "lyrics": "What money got to do with it\nWhen I don't know the full definition of a rap image?\nI'm trapped insi…",
         "_deepnote_index_column": 3
        },
        {
         "album": "To Pimp a Butterfly",
         "style": "jazzrap",
         "gender": "male",
         "title": "These Walls (Ft. Anna Wise, Bilal & Thundercat)",
         "lyrics": "Produced by Terrace Martin & Larrance Dopson; Additional production by Sounwave\nDirected by Colin T…",
         "_deepnote_index_column": 4
        },
        {
         "album": "The Low End Theory",
         "style": "jazzrap",
         "gender": "female/male",
         "title": "Excursions",
         "lyrics": "Back in the days when I was a teenager\nBefore I had status and before I had a pager\nYou could find …",
         "_deepnote_index_column": 5
        },
        {
         "album": "The Low End Theory",
         "style": "jazzrap",
         "gender": "female/male",
         "title": "Buggin' Out",
         "lyrics": "Yo, microphone check one, two, what is this?\nThe five foot assassin with the roughneck business\nI f…",
         "_deepnote_index_column": 6
        },
        {
         "album": "The Low End Theory",
         "style": "jazzrap",
         "gender": "female/male",
         "title": "Rap Promoter",
         "lyrics": "Intro: Q-Tip\nIt's a fly love song\n\nVerse 1: Q-Tip\nTo the effect of nothing, effective fronting\nIs w…",
         "_deepnote_index_column": 7
        },
        {
         "album": "The Low End Theory",
         "style": "jazzrap",
         "gender": "female/male",
         "title": "Butter",
         "lyrics": "Intro: Q-Tip\n-gy\n\nVerse 1: Phife Dawg\n1988 senior year at Garvey High\nWhere all the guys were corny…",
         "_deepnote_index_column": 8
        },
        {
         "album": "The Low End Theory",
         "style": "jazzrap",
         "gender": "female/male",
         "title": "Verses from the Abstract",
         "lyrics": "Intro\nI had a dream about my man last night\nAnd my man came by the studio\nAnd his name is...\n\nChoru…",
         "_deepnote_index_column": 9
        },
        {
         "album": "Midnight Marauders",
         "style": "jazzrap",
         "gender": "male",
         "title": "Midnight Marauders Tour Guide",
         "lyrics": "Intro: Laurel Dann\nHello, this is your Midnight Marauder program\nI am on the front of your cover\nI …",
         "_deepnote_index_column": 10
        },
        {
         "album": "Midnight Marauders",
         "style": "jazzrap",
         "gender": "male",
         "title": "Steve Biko (Stir it Up)",
         "lyrics": "Intro: Phife Dawg\nLinden Boulevard represent, represent-sent\nTribe Called Quest represent, represen…",
         "_deepnote_index_column": 11
        },
        {
         "album": "Midnight Marauders",
         "style": "jazzrap",
         "gender": "male",
         "title": "Award Tour (Ft. Trugoy the Dove)",
         "lyrics": "Chorus: Trugoy the Dove\nWe on a world tour with Muhammad, my man\nGoing each and every place with th…",
         "_deepnote_index_column": 12
        },
        {
         "album": "Midnight Marauders",
         "style": "jazzrap",
         "gender": "male",
         "title": "8 Million Stories",
         "lyrics": "Verse 1: Phife Dawg\nWent to Carvel to get a milkshake\nThis honey ripped me off for all my loot cake…",
         "_deepnote_index_column": 13
        },
        {
         "album": "Midnight Marauders",
         "style": "jazzrap",
         "gender": "male",
         "title": "Sucka Nigga",
         "lyrics": "\"Hey sucka nigga, whoever you are\"\n\"Hey sucka nigga, whoever you are\"\n\"Hey sucka nigga, hey sucka n…",
         "_deepnote_index_column": 14
        },
        {
         "album": "We got it from Here… Thank You 4 Your service",
         "style": "jazzrap",
         "gender": "female",
         "title": "The Space Program",
         "lyrics": "I’mma deal with a bigger insult, man\nThe heat, the heat, the heat, the heat\nIt's comin' down hard\nW…",
         "_deepnote_index_column": 15
        },
        {
         "album": "We got it from Here… Thank You 4 Your service",
         "style": "jazzrap",
         "gender": "female",
         "title": "We the People....",
         "lyrics": "Verse 1: Q-Tip\nWe don't believe you 'cause we the people\nAre still here in the rear, ayo, we don't …",
         "_deepnote_index_column": 16
        },
        {
         "album": "We got it from Here… Thank You 4 Your service",
         "style": "jazzrap",
         "gender": "female",
         "title": "Whateva Will Be (Ft. Consequence)",
         "lyrics": "Intro\nGirl, this motherfucker's got rhythm\n\nVerse 1: Phife Dawg\nSay am I 'posed to be dead or doin'…",
         "_deepnote_index_column": 17
        },
        {
         "album": "We got it from Here… Thank You 4 Your service",
         "style": "jazzrap",
         "gender": "female",
         "title": "Solid Wall of Sound (Ft. Busta Rhymes, Elton John & Jack White)",
         "lyrics": "Chorus: Elton John, A Tribe Called Quest\nGonna hear electric music (What you gon' hear?)\nGonna hear…",
         "_deepnote_index_column": 18
        },
        {
         "album": "We got it from Here… Thank You 4 Your service",
         "style": "jazzrap",
         "gender": "female",
         "title": "Dis Generation (Ft. Busta Rhymes)",
         "lyrics": "Verse 1: Q-Tip, Phife Dawg, Jarobi, (Q-Tip & Phife Dawg), & (Q-Tip & Jarobi)\nHandle rocks with the …",
         "_deepnote_index_column": 19
        },
        {
         "album": "Stress: The Extinction Agenda",
         "style": "jazzrap",
         "gender": "male",
         "title": "Intro (Stress (The Extinction Agenda))",
         "lyrics": "Intro: Samples\n?\n\"So confused, I'm so confused\"\n\"So confused, I'm so confused\"\n\"So confused, I'm so…",
         "_deepnote_index_column": 20
        },
        {
         "album": "Stress: The Extinction Agenda",
         "style": "jazzrap",
         "gender": "male",
         "title": "Stress",
         "lyrics": "Hook\nCrush, kill, destroy, stress\nCrush, kill, destroy, stress\nCrush, kill, destroy, stress\nCrush, …",
         "_deepnote_index_column": 21
        },
        {
         "album": "Stress: The Extinction Agenda",
         "style": "jazzrap",
         "gender": "male",
         "title": "The Extinction Agenda",
         "lyrics": "...the extinction agenda\n......the extinction agenda\n...Back is the incredible O-R, G-to-the-A\nN-I,…",
         "_deepnote_index_column": 22
        },
        {
         "album": "Stress: The Extinction Agenda",
         "style": "jazzrap",
         "gender": "male",
         "title": "Thirteen",
         "lyrics": "Hook\nRock- rock on with your bad self\n\nVerse 1: Pharoahe Monch\nComing-uh, coming-uh\nI'm comin' like…",
         "_deepnote_index_column": 23
        },
        {
         "album": "Stress: The Extinction Agenda",
         "style": "jazzrap",
         "gender": "male",
         "title": "Black Sunday",
         "lyrics": "Hook - Organized Konfusion\nLord, help me out now\nWe gotta get together\nWe gotta organize\nNo matter …",
         "_deepnote_index_column": 24
        },
        {
         "album": "Bizarre Ride II the Pharcyde",
         "style": "jazzrap",
         "gender": "male",
         "title": "4 Better Or 4 Worse (Interlude)",
         "lyrics": "instrumental",
         "_deepnote_index_column": 25
        },
        {
         "album": "Bizarre Ride II the Pharcyde",
         "style": "jazzrap",
         "gender": "male",
         "title": "Oh Shit",
         "lyrics": "Intro\nOh shit, oh shit\nOh shit, oh shit\nOh shit, oh shit\nOh shit, oh shit\nOh shit, oh shit\n\nVerse 1…",
         "_deepnote_index_column": 26
        },
        {
         "album": "Bizarre Ride II the Pharcyde",
         "style": "jazzrap",
         "gender": "male",
         "title": "It's Jiggaboo Time (Skit)",
         "lyrics": "Intro\nAyyo yo yo I tell you what's up I tell you tell you tell you what's up\n\nVerse 1\nWhen you sign…",
         "_deepnote_index_column": 27
        },
        {
         "album": "Bizarre Ride II the Pharcyde",
         "style": "jazzrap",
         "gender": "male",
         "title": "4 Better or 4 Worse",
         "lyrics": "Intro\nUhh, do you take, Rhymealinda\nDo you love me Tre?\nDo you really love me?\nTo be your lawfully,…",
         "_deepnote_index_column": 28
        },
        {
         "album": "Bizarre Ride II the Pharcyde",
         "style": "jazzrap",
         "gender": "male",
         "title": "I'm That Type of Nigga (Ft. Buc Fifty)",
         "lyrics": "Intro\nUm um, well, excuse me\nUm um, well, excuse me\nUm um, well, excuse me\nUm um, well, excuse me\nU…",
         "_deepnote_index_column": 29
        },
        {
         "album": "Modal Soul",
         "style": "jazzrap",
         "gender": "male",
         "title": "Feather (Ft. Akin Yai & Cise Star)",
         "lyrics": "Verse 1: Cise Starr\nLight as a feather when I'm floating through\nReading through the daily news\nMea…",
         "_deepnote_index_column": 30
        },
        {
         "album": "Modal Soul",
         "style": "jazzrap",
         "gender": "male",
         "title": "Ordinary Joe (Ft. Terry Callier)",
         "lyrics": "Verse 1: Terry Callier\nFor my opening line\nI might try to indicate my state of mind\nOr turn you on\n…",
         "_deepnote_index_column": 31
        },
        {
         "album": "Modal Soul",
         "style": "jazzrap",
         "gender": "male",
         "title": "Reflection Eternal",
         "lyrics": "Hair piled up.\nPiled up high.\nYour hair piled up.\nPiled up high.\n\n(2x)\nHair piled up.\nPiled up high…",
         "_deepnote_index_column": 32
        },
        {
         "album": "Modal Soul",
         "style": "jazzrap",
         "gender": "male",
         "title": "Luv(sic) Part 3 (Ft. Shing02)",
         "lyrics": "Intro\nAnd now we have a wonderful surprise for you\n\nChorus: Shing02\nIt's funny how the music put ti…",
         "_deepnote_index_column": 33
        },
        {
         "album": "Modal Soul",
         "style": "jazzrap",
         "gender": "male",
         "title": "Music Is Mine",
         "lyrics": "Hook: Nujabes\nI'm blind man of my own world\nYou're blind man of your own world\nBecause we don't kno…",
         "_deepnote_index_column": 34
        },
        {
         "album": "Blowout Comb",
         "style": "jazzrap",
         "gender": "male",
         "title": "Slowes' Comb/The May 4th Movement Starring Doodlebug",
         "lyrics": "Doodlebug and Ladybug\nOne time for your mind\nTwo times for Mumia, Sekou\nThree times for my Brooklyn…",
         "_deepnote_index_column": 35
        },
        {
         "album": "Blowout Comb",
         "style": "jazzrap",
         "gender": "male",
         "title": "Black Ego",
         "lyrics": "Cop\nAlright, boy\n\nButterfly\nAh, man\n\nCop\nGive you your rights\n\nButterfly\nHere we go again\n\nCop\nYou …",
         "_deepnote_index_column": 36
        },
        {
         "album": "Blowout Comb",
         "style": "jazzrap",
         "gender": "male",
         "title": "Dog It",
         "lyrics": "Butterfly\nDPS forever hit ya' with the live stuff\nSuliman the Bronx Ripper on the live puff\nV Love,…",
         "_deepnote_index_column": 37
        },
        {
         "album": "Blowout Comb",
         "style": "jazzrap",
         "gender": "male",
         "title": "Jettin",
         "lyrics": "Produced by Sulaiman and Butterfly\n\nButterfly\nWe jettin, we jettin, we jettin uptown\nWe jettin, we …",
         "_deepnote_index_column": 38
        },
        {
         "album": "Blowout Comb",
         "style": "jazzrap",
         "gender": "male",
         "title": "Borough Check (Ft. Guru)",
         "lyrics": "Ladybug\nSpace I got round to\nActed when I fee it\nIn how I see it\nYou be it if you be it\nStarted out…",
         "_deepnote_index_column": 39
        },
        {
         "album": "Mecca and the Soul Brother",
         "style": "jazzrap",
         "gender": "female/male",
         "title": "Return of the Mecca",
         "lyrics": "Intro\nTo know the truth is to know the self\nTo know the self is to know the Mecca\nMecca's not a sta…",
         "_deepnote_index_column": 40
        },
        {
         "album": "Mecca and the Soul Brother",
         "style": "jazzrap",
         "gender": "female/male",
         "title": "For Pete's Sake",
         "lyrics": "Here come's the rugged one, bust the way I flip it\nI collect the loot and then I knock the boots\nA …",
         "_deepnote_index_column": 41
        },
        {
         "album": "Mecca and the Soul Brother",
         "style": "jazzrap",
         "gender": "female/male",
         "title": "Ghettos of the Mind",
         "lyrics": "Ghetto of the Mind...\n\nI catch a body at a party, sort of herbal with the verbal\nLook above and see…",
         "_deepnote_index_column": 42
        },
        {
         "album": "Mecca and the Soul Brother",
         "style": "jazzrap",
         "gender": "female/male",
         "title": "Lots of Lovin'",
         "lyrics": "Lyrics\nAbout\nComments\nLogin\nSearch lyrics & more\nCover art for Lots of Lovin’ by Pete Rock & C.L. S…",
         "_deepnote_index_column": 43
        },
        {
         "album": "Mecca and the Soul Brother",
         "style": "jazzrap",
         "gender": "female/male",
         "title": "Act Like You Know",
         "lyrics": "Verse 1\nHere comes the hurricane, C.L. same name\nCut by the grain when I land upon the plain\nJah kn…",
         "_deepnote_index_column": 44
        },
        {
         "album": "Buhloone Mind State",
         "style": "jazzrap",
         "gender": "male",
         "title": "Intro (Buhloone Mindstate)",
         "lyrics": "*balloon inflating and blowing up*\n\nStickabush…stickabush…stickabush…stickabush\nStickabush…stickabu…",
         "_deepnote_index_column": 45
        },
        {
         "album": "Buhloone Mind State",
         "style": "jazzrap",
         "gender": "male",
         "title": "Eye Patch",
         "lyrics": "Intro: Pete Rodriguez\nThank you, thank you\nAnd for my latest basket of cheers, here it goes, baby!\n…",
         "_deepnote_index_column": 46
        },
        {
         "album": "Buhloone Mind State",
         "style": "jazzrap",
         "gender": "male",
         "title": "En Focus (Ft. Dres & Shortie No Mass)",
         "lyrics": "Intro\nBiofeedback\n\nVerse 1: Pos + Des\nYa go \"ichi, ni, san shi\"\nI can't cook, but being a cook I'm …",
         "_deepnote_index_column": 47
        },
        {
         "album": "Buhloone Mind State",
         "style": "jazzrap",
         "gender": "male",
         "title": "Patti Dooke (Ft. Guru)",
         "lyrics": "Intro: Sample\nWhy do we have to cross over?\nWhy are niggas always crossing over, huh?\nI mean, what'…",
         "_deepnote_index_column": 48
        },
        {
         "album": "Buhloone Mind State",
         "style": "jazzrap",
         "gender": "male",
         "title": "I Be Blowin' (Ft. Maceo Parker)",
         "lyrics": "Intro: Maceo Parker\nI am Maceo. I be blowin' the soul out of this horn\n\nInstrumental",
         "_deepnote_index_column": 49
        },
        {
         "album": "People's Instinctive Travels and the Paths of Rhythm",
         "style": "jazzrap",
         "gender": "female",
         "title": "Push It Along",
         "lyrics": "Verse 1: Q-Tip\nQ-Tip is my title, I don't think that it's vital\nFor me to be your idol, but dig thi…",
         "_deepnote_index_column": 50
        },
        {
         "album": "People's Instinctive Travels and the Paths of Rhythm",
         "style": "jazzrap",
         "gender": "female",
         "title": "Luck of Lucien (Ft. Papalu)",
         "lyrics": "Verse 1: Q-Tip\nBrother, brother, brother, Lucien, you're like no other\nListen very close 'cause I d…",
         "_deepnote_index_column": 51
        },
        {
         "album": "People's Instinctive Travels and the Paths of Rhythm",
         "style": "jazzrap",
         "gender": "female",
         "title": "After Hours",
         "lyrics": "Hook\nAfter hours it was cool, after hours it was cool\nAfter hours it was cool, after hours it was c…",
         "_deepnote_index_column": 52
        },
        {
         "album": "People's Instinctive Travels and the Paths of Rhythm",
         "style": "jazzrap",
         "gender": "female",
         "title": "Footprints",
         "lyrics": "Verse 1: Q-Tip\nAs we start trudging\nMe and my brothers we be looking and be bugging\nVehicles of lif…",
         "_deepnote_index_column": 53
        },
        {
         "album": "People's Instinctive Travels and the Paths of Rhythm",
         "style": "jazzrap",
         "gender": "female",
         "title": "I Left My Wallet in El Segundo",
         "lyrics": "Intro\nToqué ese guitarra!\n\nChorus: Q-Tip\nI left my wallet in El Segundo\nI left my wallet in El Segu…",
         "_deepnote_index_column": 54
        },
        {
         "album": "Below the Heavens",
         "style": "jazzrap",
         "gender": "male",
         "title": "My World Is..",
         "lyrics": "Verse 1: Blu\nYeah, you know my name rings a bell\nOr should I say rocks 'em. I'm shell toe rockin\nfe…",
         "_deepnote_index_column": 55
        },
        {
         "album": "Below the Heavens",
         "style": "jazzrap",
         "gender": "male",
         "title": "The Narrow Path",
         "lyrics": "Intro\nTryna tell my folks that flowing ain't easy\n\nVerse 1\nPicture me sitting in front of eighty-ei…",
         "_deepnote_index_column": 56
        },
        {
         "album": "Below the Heavens",
         "style": "jazzrap",
         "gender": "male",
         "title": "So(ul) Amazin’ (Steel Blazin’)",
         "lyrics": "Intro: Scratches\n\"It's so amazin'\"\n\"From the soul y'all\"\n\nVerse 1: Blu\nThe soul provider, gotta lot…",
         "_deepnote_index_column": 57
        },
        {
         "album": "Below the Heavens",
         "style": "jazzrap",
         "gender": "male",
         "title": "Juice n' Dranks (Ft. Ta'Raach)",
         "lyrics": "Verse 1: Ta'Raach\nAllow the flow to blow the steam, hostile\nWhenever I spit, you just swallow like …",
         "_deepnote_index_column": 58
        },
        {
         "album": "Below the Heavens",
         "style": "jazzrap",
         "gender": "male",
         "title": "In Remembrance of Me",
         "lyrics": "Verse 1: Blu\nIt seems like yesterday we was chasing an ice cream truck\nNow we hoping that our ice b…",
         "_deepnote_index_column": 59
        },
        {
         "album": "Resurrection",
         "style": "jazzrap",
         "gender": "male",
         "title": "Resurrection",
         "lyrics": "Scratched\n\"Resurrection\"\n\nIntro\nYeah I'ma get this one off for 87th Street\nSouth Side of Chicago, C…",
         "_deepnote_index_column": 60
        },
        {
         "album": "Resurrection",
         "style": "jazzrap",
         "gender": "male",
         "title": "I Used to Love H.E.R.",
         "lyrics": "Produced by No I.D.\n\nChorus\nA-yes, yes y'all, and you don't stop\nTo the beat, y'all, and you don't …",
         "_deepnote_index_column": 61
        },
        {
         "album": "Resurrection",
         "style": "jazzrap",
         "gender": "male",
         "title": "Watermelon",
         "lyrics": "Verse 1\nI express like an interstate\nHyper when I ventilate\nMy rap pieces penetrate and infiltrate …",
         "_deepnote_index_column": 62
        },
        {
         "album": "Resurrection",
         "style": "jazzrap",
         "gender": "male",
         "title": "Book of Life",
         "lyrics": "Hook\n{Here's a little that must be told\n(*beat scratches*)\nFrom beginning to end (*beat scratches*)…",
         "_deepnote_index_column": 63
        },
        {
         "album": "Resurrection",
         "style": "jazzrap",
         "gender": "male",
         "title": "In My Own World (Check the Method) (Ft. No I.D.)",
         "lyrics": "Hook\nYeah yeah, now check the method\nYeah yeah, now check the method\nYeah yeah, now check the metho…",
         "_deepnote_index_column": 64
        },
        {
         "album": "Reachin' (A New Refutation of Time and Space)",
         "style": "jazzrap",
         "gender": "male",
         "title": "It's Good to be Here",
         "lyrics": "Intro\nHere they are\n\nVerse 1: Butterfly\nThe ticky-ticky buzz, the sun wakes the sky\nI fumble throug…",
         "_deepnote_index_column": 65
        },
        {
         "album": "Reachin' (A New Refutation of Time and Space)",
         "style": "jazzrap",
         "gender": "male",
         "title": "Pacifics (Sdtrk \"N.Y. is Red Hot\")",
         "lyrics": "Verse 1: Butterfly\nButterfly searching for a relax\nPulling from the jazz stacks 'cause it's Sunday\n…",
         "_deepnote_index_column": 66
        },
        {
         "album": "Reachin' (A New Refutation of Time and Space)",
         "style": "jazzrap",
         "gender": "male",
         "title": "Where I'm From",
         "lyrics": "Introduction\nPeace, peace, peace y'all\nStrange\nReal strange, real strange\nAn overdose, a nickel bag…",
         "_deepnote_index_column": 67
        },
        {
         "album": "Reachin' (A New Refutation of Time and Space)",
         "style": "jazzrap",
         "gender": "male",
         "title": "What Cool Breezes Do",
         "lyrics": "Hook\nYou gotta do what ya feel, do what ya feel\nDo what ya feel, yeah do what ya feel\nDo what ya fe…",
         "_deepnote_index_column": 68
        },
        {
         "album": "Reachin' (A New Refutation of Time and Space)",
         "style": "jazzrap",
         "gender": "male",
         "title": "Time & Space (A New Refutation Of)",
         "lyrics": "Verse 1: Butterfly\nSlip slide, dip then take a dive\nPlanets lookin' high when we travellin' on a vi…",
         "_deepnote_index_column": 69
        },
        {
         "album": "93 'Til Infinity",
         "style": "jazzrap",
         "gender": "male",
         "title": "Let 'Em Know",
         "lyrics": "Verse 1: Opio\nYou're irresponsible, no focus\nI hope this advice grips\nI ripped it to shreds, I bust…",
         "_deepnote_index_column": 70
        },
        {
         "album": "93 'Til Infinity",
         "style": "jazzrap",
         "gender": "male",
         "title": "Live and Let Live",
         "lyrics": "Verse 1: Opio\nNow playful pulpit pussies poppin' junk with the pistol\nSweated because I'm dreaded, …",
         "_deepnote_index_column": 71
        },
        {
         "album": "93 'Til Infinity",
         "style": "jazzrap",
         "gender": "male",
         "title": "That's When Ya Lost (Ft. Pep Love)",
         "lyrics": "Intro\nHaha!\nYo, man, crews be lost, man\nNo sense of direction\n(Fools don't even know)\nPlease don't …",
         "_deepnote_index_column": 72
        },
        {
         "album": "93 'Til Infinity",
         "style": "jazzrap",
         "gender": "male",
         "title": "A Name I Call Myself",
         "lyrics": "Intro: A-Plus\nHa hah...hahaha!!\nYo y'all wanna know about hoes?\nCheck it out...yo\n\nVerse 1: A-Plus\n…",
         "_deepnote_index_column": 73
        },
        {
         "album": "93 'Til Infinity",
         "style": "jazzrap",
         "gender": "male",
         "title": "Disseshowedo",
         "lyrics": "Verse 1: Tajai\nIt gets no fatter\nAdd another crew to your favo-ritos\nYes we knows our shit is flavo…",
         "_deepnote_index_column": 74
        },
        {
         "album": "Metaphorical Music",
         "style": "jazzrap",
         "gender": "male",
         "title": "Blessing It Remix (Street Version) (Ft. Pase Rock & Substantial)",
         "lyrics": "Verse 1: Substantial\nYo, each one, teach one, we reach on\nMaryland and Cincinnati to the Far East, …",
         "_deepnote_index_column": 75
        },
        {
         "album": "Metaphorical Music",
         "style": "jazzrap",
         "gender": "male",
         "title": "Horn in the Middle",
         "lyrics": "Intro: Sample\n\"I've been so free, I've been so free here\nY'know, with the album\nIf there's anything…",
         "_deepnote_index_column": 76
        },
        {
         "album": "Metaphorical Music",
         "style": "jazzrap",
         "gender": "male",
         "title": "Lady Brown (Ft. Cise Star)",
         "lyrics": "Verse 1: Cise Starr\nCrush a coal to a diamond, eyes forever shining\nYour beauty alone inspire a nig…",
         "_deepnote_index_column": 77
        },
        {
         "album": "Metaphorical Music",
         "style": "jazzrap",
         "gender": "male",
         "title": "Kumomi",
         "lyrics": "This song is an instrumental",
         "_deepnote_index_column": 78
        },
        {
         "album": "Metaphorical Music",
         "style": "jazzrap",
         "gender": "male",
         "title": "Highs 2 Lows (Ft. Cise Star)",
         "lyrics": "Verse 1\nIndividual stars float in an ocean of God\nRocking a pinky ring of Saturn while I'm visiting…",
         "_deepnote_index_column": 79
        },
        {
         "album": "Uptown Saturday Night",
         "style": "jazzrap",
         "gender": "male",
         "title": "Krystal Karrington",
         "lyrics": "Hook\nOn and on and some try to do this\nYes y'all to the Camp lo\nOn and on and some try to do this\nY…",
         "_deepnote_index_column": 80
        },
        {
         "album": "Uptown Saturday Night",
         "style": "jazzrap",
         "gender": "male",
         "title": "Luchini AKA This Is It",
         "lyrics": "Produced by Ski Beatz\n\nHook\nThis is it, what\nLuchini pouring from the sky\nLet's get rich, what\nThe …",
         "_deepnote_index_column": 81
        },
        {
         "album": "Uptown Saturday Night",
         "style": "jazzrap",
         "gender": "male",
         "title": "Park Joint",
         "lyrics": "Verse 1: Geechie Suede\nNow who got what you don't got, Lo do, next verse\nMy alumni comply will shan…",
         "_deepnote_index_column": 82
        },
        {
         "album": "Uptown Saturday Night",
         "style": "jazzrap",
         "gender": "male",
         "title": "B-Side to Hollywood (Ft. Trugoy the Dove)",
         "lyrics": "Hook\nAyo, watch that thing (cause we comin' around)\nWe settin' Camp on these here grounds\nCause we …",
         "_deepnote_index_column": 83
        },
        {
         "album": "Uptown Saturday Night",
         "style": "jazzrap",
         "gender": "male",
         "title": "Killin’ Em Softly",
         "lyrics": "Intro: G-Suede\nYo Cheeba\nIf I ever see that cat again, cousin\nHe ain't gonna make it\nYeah, that's m…",
         "_deepnote_index_column": 84
        },
        {
         "album": "Untitled Unmastered.",
         "style": "jazzrap",
         "gender": "male",
         "title": "1​untitled 01 | 08.19.2014. Lyrics",
         "lyrics": "Intro: Bilal\nCome here, girl\nOh, you want me to touch you right there?\nOh, like a little lamb, play…",
         "_deepnote_index_column": 85
        },
        {
         "album": "Untitled Unmastered.",
         "style": "jazzrap",
         "gender": "male",
         "title": "​untitled 02 | 06.23.2014. Lyrics",
         "lyrics": "Intro\nPimp-pimp (Hooray)\nPimp-pimp (Hooray)\n(Hooray)\nPimp-pimp (Hooray)\nPimp-pimp\n\nBridge 1\nI'm sic…",
         "_deepnote_index_column": 86
        },
        {
         "album": "Untitled Unmastered.",
         "style": "jazzrap",
         "gender": "male",
         "title": "​untitled 03 | 05.28.2013. Lyrics",
         "lyrics": "Intro: Kendrick Lamar\nSo I met this young lady, ya know, when I went back home. I was tryna spit my…",
         "_deepnote_index_column": 87
        },
        {
         "album": "Untitled Unmastered.",
         "style": "jazzrap",
         "gender": "male",
         "title": "2​untitled 04 | 08.14.2014. Lyrics",
         "lyrics": "Intro: Kendrick Lamar\nSo I met this young lady, ya know, when I went back home. I was tryna spit my…",
         "_deepnote_index_column": 88
        },
        {
         "album": "Untitled Unmastered.",
         "style": "jazzrap",
         "gender": "male",
         "title": "​untitled 02 | 06.23.2014. Lyrics",
         "lyrics": "Hook: Anna Wise & Kendrick Lamar\nSomebody said you bumped your head and bled the floor\nJumped into …",
         "_deepnote_index_column": 89
        },
        {
         "album": "Step in the Arena",
         "style": "jazzrap",
         "gender": "female/male",
         "title": "Name Tag (Premier & The Guru)",
         "lyrics": "Guru\nThe DJ's name is Premier, and I'm the Guru (And I'm the Guru, I'm the Guru)\nThe DJ's name is P…",
         "_deepnote_index_column": 90
        },
        {
         "album": "Step in the Arena",
         "style": "jazzrap",
         "gender": "female/male",
         "title": "Step in the Arena",
         "lyrics": "Scratches: DJ Premier\nStep up\n\nVerse 1: Guru\nOnce you step in the arena, cheater; you're gonna be a…",
         "_deepnote_index_column": 91
        },
        {
         "album": "Step in the Arena",
         "style": "jazzrap",
         "gender": "female/male",
         "title": "Form of Intellect",
         "lyrics": "Hook: Cuts\nIntelligent but not yet equivalent\n\nVerse 1: Guru\nTell me, do you have a clue of what to…",
         "_deepnote_index_column": 92
        },
        {
         "album": "Step in the Arena",
         "style": "jazzrap",
         "gender": "female/male",
         "title": "Execution of a Chump (No More Mr. Nice Guy Pt. 2)",
         "lyrics": "Verse 1\nI knew this chump see... he tried to play me\nHe was my right hand man, but he betrayed me\nI…",
         "_deepnote_index_column": 93
        },
        {
         "album": "Step in the Arena",
         "style": "jazzrap",
         "gender": "female/male",
         "title": "Who's Gonna Take the Weight?",
         "lyrics": "Intro\nKnowledge is power, and knowledge can be the difference between life or death\nYou should know…",
         "_deepnote_index_column": 94
        },
        {
         "album": "Manger on McNichols",
         "style": "jazzrap",
         "gender": "female/male",
         "title": "Medusa",
         "lyrics": "Intro: James Boggs\nNow here is all these peoples (right)\nWho are moved here...thirty, forty years- …",
         "_deepnote_index_column": 95
        },
        {
         "album": "Manger on McNichols",
         "style": "jazzrap",
         "gender": "female/male",
         "title": "Welcome to 76",
         "lyrics": "Intro\nIn the Metro Detroit area, there are thousands and thousands and thousands and thousands (Con…",
         "_deepnote_index_column": 96
        },
        {
         "album": "Manger on McNichols",
         "style": "jazzrap",
         "gender": "female/male",
         "title": "Detroit River Rock",
         "lyrics": "Intro\nHell block, Six Mile, drug zone 76\nConcreatures, yeah (on blocks, yeah)\nOkay\n\nVerse 1\nI do di…",
         "_deepnote_index_column": 97
        },
        {
         "album": "Manger on McNichols",
         "style": "jazzrap",
         "gender": "female/male",
         "title": "B.B. Butcher",
         "lyrics": "Intro: Boldy James & Martha Jean \"The Queen\" Steinberg\nThese niggas ain't built to last (nah)\nYou g…",
         "_deepnote_index_column": 98
        }
       ],
       "rows_bottom": [
        {
         "album": "KIDS SEE GHOSTS",
         "style": "poprap",
         "gender": "male",
         "title": "Reborn",
         "lyrics": "Hmm, I'm wide awake, I’m wide awake\nI'm wide awake\nHey, I'm wide awake, I’m wide awake\nI'm wide awa…",
         "_deepnote_index_column": 19
        },
        {
         "album": "The Life of Pablo",
         "style": "poprap",
         "gender": "male",
         "title": "Ultralight Beam (Ft. Chance the Rapper, Kelly Price, Kirk Franklin & The-Dream)",
         "lyrics": "Intro Samoria Green & Natalie Green\n(Yes, God)\nWe don't want no devils in the house, God (Yes, Lord…",
         "_deepnote_index_column": 20
        },
        {
         "album": "The Life of Pablo",
         "style": "poprap",
         "gender": "male",
         "title": "Father Stretch My Hands, Pt. 1 (Ft. Kid Cudi)",
         "lyrics": "You're the only power (Power)\nYou're the only power that can\nYou're the only power (Power)\nYou're t…",
         "_deepnote_index_column": 21
        },
        {
         "album": "The Life of Pablo",
         "style": "poprap",
         "gender": "male",
         "title": "Pt. 2 (Ft. Desiigner)",
         "lyrics": "Faaaaaaaa— (Perfect)\nFaaaaaaaa—\nFaaaaaaaa—\nFaaaaaaaa—\nI told, I told, ayy-ayy, I told you\n\nVerse 1 …",
         "_deepnote_index_column": 22
        },
        {
         "album": "The Life of Pablo",
         "style": "poprap",
         "gender": "male",
         "title": "Famous (Ft. Rihanna)",
         "lyrics": "Intro Rihanna & Kanye West\nMan, I can understand how it might be\nKinda hard to love a girl like me\n…",
         "_deepnote_index_column": 23
        },
        {
         "album": "The Life of Pablo",
         "style": "poprap",
         "gender": "male",
         "title": "Feedback",
         "lyrics": "Chorus\nAyy, ya heard about the good news?\nY'all sleeping on me, huh? Had a good snooze?\nWake up, ni…",
         "_deepnote_index_column": 24
        },
        {
         "album": "Saturation II",
         "style": "poprap",
         "gender": "male",
         "title": "GUMMY",
         "lyrics": "Instrumental Intro\n\nVerse 1 Kevin Abstract\nThese niggas take me for granted, what would hap' if I v…",
         "_deepnote_index_column": 25
        },
        {
         "album": "Saturation II",
         "style": "poprap",
         "gender": "male",
         "title": "QUEER",
         "lyrics": "Verse 1 Matt Champion\nSkinny boy, skinny boy, where your muscles at?\nUsed to walk to work, eight ho…",
         "_deepnote_index_column": 26
        },
        {
         "album": "Saturation II",
         "style": "poprap",
         "gender": "male",
         "title": "JELLO",
         "lyrics": "Chorus Kevin Abstract\nLa-di-da-di-da-di-da, do I trust 'em? Probably not\nI think that y'all prolly …",
         "_deepnote_index_column": 27
        },
        {
         "album": "Saturation II",
         "style": "poprap",
         "gender": "male",
         "title": "TEETH",
         "lyrics": "I done been in trouble 'bout as long as I remember\nMy momma tried to help me but I hardly ever list…",
         "_deepnote_index_column": 28
        },
        {
         "album": "Graduation",
         "style": "poprap",
         "gender": "male",
         "title": "Good Morning",
         "lyrics": "Produced by Kanye West\n\nIntro Kanye West\nUhh.. uhh\nUhh.. uhh\n\nChorus Kanye West\nGood morning!\nGood …",
         "_deepnote_index_column": 29
        },
        {
         "album": "Graduation",
         "style": "poprap",
         "gender": "male",
         "title": "Champion",
         "lyrics": "Refrain\nDid you realize\nThat you were a champion in their eyes?\n\nChorus 1\nYes, I did\nSo I packed it…",
         "_deepnote_index_column": 30
        },
        {
         "album": "Graduation",
         "style": "poprap",
         "gender": "male",
         "title": "Stronger",
         "lyrics": "Produced by Kanye West, Mike Dean, and Timbaland\n\nIntro Daft Punk\nWork it, make it, do it, makes us…",
         "_deepnote_index_column": 31
        },
        {
         "album": "Graduation",
         "style": "poprap",
         "gender": "male",
         "title": "I Wonder",
         "lyrics": "Produced by Kanye West\n\nIntro Labi Siffre\nFind your dreams come true\nAnd I wonder if you know\nWhat …",
         "_deepnote_index_column": 32
        },
        {
         "album": "Graduation",
         "style": "poprap",
         "gender": "male",
         "title": "Good Life (Ft. T-Pain)",
         "lyrics": "Produced by DJ Toomp, Kanye West, and Mike Dean\n\nChorus Kanye West & T-Pain\nLike we always do at th…",
         "_deepnote_index_column": 33
        },
        {
         "album": "Saturation",
         "style": "poprap",
         "gender": "male",
         "title": "HEAT",
         "lyrics": "Video Intro Robert Ontenient\nMe llamo Roberto\nEste es mi amigo Jabari\nNosotros odiamos a la policía…",
         "_deepnote_index_column": 34
        },
        {
         "album": "Saturation",
         "style": "poprap",
         "gender": "male",
         "title": "GOLD",
         "lyrics": "Chorus Kevin Abstract\nKeep a gold chain on my neck\nFly as a jet, boy, better treat me with respect\n…",
         "_deepnote_index_column": 35
        },
        {
         "album": "Saturation",
         "style": "poprap",
         "gender": "male",
         "title": "STAR",
         "lyrics": "Verse 1 Dom McLennon\nI might go Interstellar\nI feel like Matthew McConaughey\nI don't care for what …",
         "_deepnote_index_column": 36
        },
        {
         "album": "Saturation",
         "style": "poprap",
         "gender": "male",
         "title": "BOYS",
         "lyrics": "Chorus Kevin Abstract & Joba\nHella boys say, hella boys say, hella boys\nHella boys say, hella boys …",
         "_deepnote_index_column": 37
        },
        {
         "album": "Saturation",
         "style": "poprap",
         "gender": "male",
         "title": "2PAC",
         "lyrics": "Verse Ameer Vann\nI got some demons on me, they been feeding on me\nWhen I sold prescriptions, and my…",
         "_deepnote_index_column": 38
        },
        {
         "album": "Man on the Moon The End of Day",
         "style": "poprap",
         "gender": "female",
         "title": "In My Dreams (Cudder Anthem)",
         "lyrics": "Verse Kid Cudi\nYeah, yeah\nWhat up, what up\nYou're in my dreams\nI can have anything and everything I…",
         "_deepnote_index_column": 39
        },
        {
         "album": "Man on the Moon The End of Day",
         "style": "poprap",
         "gender": "female",
         "title": "Soundtrack 2 My Life",
         "lyrics": "Verse 1\nI got 99 problems and they all bitches\nWish I was Jigga man, carefree livin'\nBut I'm not Sh…",
         "_deepnote_index_column": 40
        },
        {
         "album": "Man on the Moon The End of Day",
         "style": "poprap",
         "gender": "female",
         "title": "Simple As...",
         "lyrics": "A-B-C, A-B-C, A-B-C, A-B-C\n1-2-3, A-B-C, A-B-C, 1-2-3, A-B-C, A-B-C\n1-2-3, A-B-C (Robotics tried in…",
         "_deepnote_index_column": 41
        },
        {
         "album": "Man on the Moon The End of Day",
         "style": "poprap",
         "gender": "female",
         "title": "Solo Dolo (Nightmare)",
         "lyrics": "Verse 1\nListen good, I don't have nobody\nBut what I might feel are the sounds of sanity\nHoping what…",
         "_deepnote_index_column": 42
        },
        {
         "album": "Man on the Moon The End of Day",
         "style": "poprap",
         "gender": "female",
         "title": "Heart of a Lion (Kid Cudi Theme Music)",
         "lyrics": "Verse 1\nPlease save a kid that needs some help\nAnd I can't begin to think of anything that could he…",
         "_deepnote_index_column": 43
        },
        {
         "album": "The Pink Lavalamp",
         "style": "poprap",
         "gender": "female/male",
         "title": "Music (Intro)",
         "lyrics": "Verse 1\nAmerica got a thing for this gangster shit, well I ain't got it\nSo if different shit is wac…",
         "_deepnote_index_column": 44
        },
        {
         "album": "The Pink Lavalamp",
         "style": "poprap",
         "gender": "female/male",
         "title": "Loser",
         "lyrics": "I'm not leaving out this motherfuckin both till I get this shit right\nUh x3\nIt's Charles Hamilton\n\n…",
         "_deepnote_index_column": 45
        },
        {
         "album": "The Pink Lavalamp",
         "style": "poprap",
         "gender": "female/male",
         "title": "She's So High",
         "lyrics": "Produced by Charles Hamilton\n\nVerse 1 Charles Hamilton\nMet her at a rave, never stopped grooving\nLo…",
         "_deepnote_index_column": 46
        },
        {
         "album": "The Pink Lavalamp",
         "style": "poprap",
         "gender": "female/male",
         "title": "Voices",
         "lyrics": "Talking\nCan I be honest with you man?\nI think I’m going crazy\nFor real\nNiggas got me in my shit rig…",
         "_deepnote_index_column": 47
        },
        {
         "album": "The Pink Lavalamp",
         "style": "poprap",
         "gender": "female/male",
         "title": "The Boy who Cried Wolf",
         "lyrics": "(Intro)\nYa'll niggas never want to listen to me huh?\nNobody want to believe me\nJust the boy who cri…",
         "_deepnote_index_column": 48
        },
        {
         "album": "Speakerboxxx / The Love Below",
         "style": "poprap",
         "gender": "male",
         "title": "Intro (Speakerboxxx)",
         "lyrics": "This is a test\n...\nSpeakerboxxx\nSpeakerboxxx\nSpeakerboxxx\n...\nThis is a test\nSpeakerboxxx",
         "_deepnote_index_column": 49
        },
        {
         "album": "Speakerboxxx / The Love Below",
         "style": "poprap",
         "gender": "male",
         "title": "GhettoMusick",
         "lyrics": "Intro André 3000\nWhoo, turn me up, don't turn me down\nCut me up, don't let me down, find, find a wa…",
         "_deepnote_index_column": 50
        },
        {
         "album": "Speakerboxxx / The Love Below",
         "style": "poprap",
         "gender": "male",
         "title": "Unhappy",
         "lyrics": "Intro Unnamed Man + Big Boi\nDrowning in the gray cell\nTo dwell in earthly hell\nA pimp warrior fell\n…",
         "_deepnote_index_column": 51
        },
        {
         "album": "Speakerboxxx / The Love Below",
         "style": "poprap",
         "gender": "male",
         "title": "Bowtie (Ft. Jazze Pha & Sleepy Brown)",
         "lyrics": "Intro Sleepy Brown (Big Boi)\nGirl you cut up (Lucius Left Foot)\nGirl you know you cut up\n\nHook Slee…",
         "_deepnote_index_column": 52
        },
        {
         "album": "Speakerboxxx / The Love Below",
         "style": "poprap",
         "gender": "male",
         "title": "The Way You Move (Ft. Sleepy Brown)",
         "lyrics": "Intro\nBoom, boom, boom\nHa-ha!\n\nVerse 1 Big Boi\nReady for action, nip it in the bud\nWe never relaxin…",
         "_deepnote_index_column": 53
        },
        {
         "album": "Halcali Bacon",
         "style": "poprap",
         "gender": "female/male",
         "title": "INTRO Halcali Bacon",
         "lyrics": "Halcali\n\nBacon!\n\n(Halcali Bacon)\n\nSe- no\n\nHa-ru-ka-ri be-kon ya",
         "_deepnote_index_column": 54
        },
        {
         "album": "Halcali Bacon",
         "style": "poprap",
         "gender": "female/male",
         "title": "Tandem",
         "lyrics": "Romaji\n\nHook\nTen komori de DANCE\nSHABADABARAN BADA EVERYBODY\nNandaka karadajuu kanjiru\nKankaku TAND…",
         "_deepnote_index_column": 55
        },
        {
         "album": "Halcali Bacon",
         "style": "poprap",
         "gender": "female/male",
         "title": "Giri Giri Surf Rider",
         "lyrics": "Hook\nMaa relax surf rider nori\nNami no ue wo suberi oriru\nMaa relax surf rider nori\nKami kami kami …",
         "_deepnote_index_column": 56
        },
        {
         "album": "The Life of Paul",
         "style": "poprap",
         "gender": "male",
         "title": "Ultralight Beam (Dorian_Ye Version)",
         "lyrics": "Intro Kirk Franklin & Choir\nFather, this prayer is for everyone that feels they're not good enough\n…",
         "_deepnote_index_column": 57
        },
        {
         "album": "The Life of Paul",
         "style": "poprap",
         "gender": "male",
         "title": "Father Stretch My Hands Pt.1 (Dorian_Ye Version)",
         "lyrics": "Intro Pastor T.L. Barrett\nFather, I stretch my hands to thee\nNo other help I know of\nMy Lord! My Lo…",
         "_deepnote_index_column": 58
        },
        {
         "album": "The Life of Paul",
         "style": "poprap",
         "gender": "male",
         "title": "Pt. 2 (Dorian_Ye Version)",
         "lyrics": "Intro\n(Perfect)\nFaaaaaaaa\nFaaaaaaaa\nFaaaaaaaa\nFaaaaaaaah\n\nVerse 1 Kanye West\nI told, I told, ay ay,…",
         "_deepnote_index_column": 59
        },
        {
         "album": "The Life of Paul",
         "style": "poprap",
         "gender": "male",
         "title": "Pt. 3 (Dorian_Ye Version)",
         "lyrics": "Intro Kid Cudi\nBeautiful morning, you're the sun in my morning babe\nNothing unwanted\nBeautiful morn…",
         "_deepnote_index_column": 60
        },
        {
         "album": "The Life of Paul",
         "style": "poprap",
         "gender": "male",
         "title": "Famous (Dorian_Ye Version)",
         "lyrics": "Intro Kanye West\nWe culture\nRap is the new rock 'n roll\nWe the rockstars\n(It's been like that now f…",
         "_deepnote_index_column": 61
        },
        {
         "album": "Swimming",
         "style": "poprap",
         "gender": "male",
         "title": "Come Back to Earth",
         "lyrics": "Chorus\nMy regrets look just like texts I shouldn't send\nAnd I got neighbors, they're more like stra…",
         "_deepnote_index_column": 62
        },
        {
         "album": "Swimming",
         "style": "poprap",
         "gender": "male",
         "title": "Hurt Feelings",
         "lyrics": "Intro\nYeah\nYeah-yeah, yeah-yeah\nWhoa-whoa-whoa-whoa-whoa-whoa-whoa-whoa\nYeah-yeah\nWhoa-whoa-whoa-wh…",
         "_deepnote_index_column": 63
        },
        {
         "album": "Swimming",
         "style": "poprap",
         "gender": "male",
         "title": "What's the Use?",
         "lyrics": "Intro Mac Miller\nYeah\n\nChorus Mac Miller\nYou can love it, you can leave it\nThey say you're nothin' …",
         "_deepnote_index_column": 64
        },
        {
         "album": "Swimming",
         "style": "poprap",
         "gender": "male",
         "title": "Perfecto",
         "lyrics": "Intro\nYeah, yeah, yeah, yeah, yeah\nYeah, yeah\nYeah, yeah, yeah, yeah\n\nChorus\nWell, it ain't perfect…",
         "_deepnote_index_column": 65
        },
        {
         "album": "Swimming",
         "style": "poprap",
         "gender": "male",
         "title": "Self Care",
         "lyrics": "Part I Self Care\n\nIntro Mac Miller\nMhm, mhm\nOkay\nYeah, yeah, yeah, yeah\nYeah, yeah, yeah\nDollars\n\nC…",
         "_deepnote_index_column": 66
        },
        {
         "album": "Swimming",
         "style": "poprap",
         "gender": "male",
         "title": "When I Get Older",
         "lyrics": "Verse 1\nDown by the dock\nSits a man on a rock\nWith his hands in the air\nHear him talk, hear him swe…",
         "_deepnote_index_column": 67
        },
        {
         "album": "Phantom Pop",
         "style": "poprap",
         "gender": "male",
         "title": "OutRight",
         "lyrics": "Verse 1\nIt's not this life, it's these dreams that bring down\nThe me inside but maybe tonight I'll …",
         "_deepnote_index_column": 68
        },
        {
         "album": "Phantom Pop",
         "style": "poprap",
         "gender": "male",
         "title": "Life's Too Short",
         "lyrics": "Verse 1\nWhen rearranged, my thoughts of you explain\nJust why I'm only here to claim\nI've gotta make…",
         "_deepnote_index_column": 69
        },
        {
         "album": "Phantom Pop",
         "style": "poprap",
         "gender": "male",
         "title": "Take My Advice",
         "lyrics": "Verse 1\nI had a chill run down my spine\nShould've taken my advice\nDoes it look like I'm surprised?\n…",
         "_deepnote_index_column": 70
        },
        {
         "album": "Phantom Pop",
         "style": "poprap",
         "gender": "male",
         "title": "Connect the Dots",
         "lyrics": "Verse 1\nIt's not like that\nI've got holes in my clothes\nAnd for the last time I'll be up here with …",
         "_deepnote_index_column": 71
        },
        {
         "album": "SAS PLUS / SAS PUSSY",
         "style": "poprap",
         "gender": "female/male",
         "title": "0000 SAS PUSSY",
         "lyrics": "Vers 1 Magdi\nJeg skammer meg\nJeg skammer meg\nJeg velger «window»\nHver gang svartinger kommer inn, s…",
         "_deepnote_index_column": 72
        },
        {
         "album": "SAS PLUS / SAS PUSSY",
         "style": "poprap",
         "gender": "female/male",
         "title": "مونا الحسين (Muna al-Hussein) 0341",
         "lyrics": "Interlude Magdi\nDet var en britisk jente, 19 år gammel\nSom jobba på settet til Lawrence of Arabia, …",
         "_deepnote_index_column": 73
        },
        {
         "album": "SAS PLUS / SAS PUSSY",
         "style": "poprap",
         "gender": "female/male",
         "title": "0406 /",
         "lyrics": "Vers Magdi\nSå hvilken ballong\nGår til hvilken balkong\nGi meg to, gi meg tre\nGimme five, eller tolv\n…",
         "_deepnote_index_column": 74
        },
        {
         "album": "SAS PLUS / SAS PUSSY",
         "style": "poprap",
         "gender": "female/male",
         "title": "0451 ZALIL",
         "lyrics": "Vers 1 Chirag\nOg det er'ke din feil\nDet er'ke din feil\nDet var jeg som blanda børs og katedral\nDigg…",
         "_deepnote_index_column": 75
        },
        {
         "album": "SAS PLUS / SAS PUSSY",
         "style": "poprap",
         "gender": "female/male",
         "title": "0647 § 393",
         "lyrics": "Skit Magdi og Chirag\nDet er bare det Cosmos har lurt oss for\nNei, men ...\nTenk Sony, Universal, War…",
         "_deepnote_index_column": 76
        },
        {
         "album": "Supa Dupa Fly",
         "style": "poprap",
         "gender": "male",
         "title": "Busta's Intro (Ft. Busta Rhymes)",
         "lyrics": "Intro\nAy yo yo yoyo yoyoyoyo\nAy yo yo yoyo yoyoyoyo\nAy yo yo yo yo\n\nVerse 1\nAy yo, Missy, fuck that…",
         "_deepnote_index_column": 77
        },
        {
         "album": "Supa Dupa Fly",
         "style": "poprap",
         "gender": "male",
         "title": "Hit ‘Em wit’ da Hee (Ft. Lil' Kim)",
         "lyrics": "Intro Lil Kim\nMissy, ha ha\nYeah, I like that\n\nVerse 1 Lil' Kim\nUhh, it's the Q to the B to the doub…",
         "_deepnote_index_column": 78
        },
        {
         "album": "Supa Dupa Fly",
         "style": "poprap",
         "gender": "male",
         "title": "Sock It 2 Me (Ft. Da Brat)",
         "lyrics": "Intro Missy Elliott\nHehe, nigga\nI'm nasty\nDo it, do it, do it, do it, do it\nNo, no, no\n\nVerse 1 Mis…",
         "_deepnote_index_column": 79
        },
        {
         "album": "Supa Dupa Fly",
         "style": "poprap",
         "gender": "male",
         "title": "The Rain (Supa Dupa Fly)",
         "lyrics": "Intro Missy Elliott & Timbaland\n*Yawning*\nRun the track\n\nChorus Missy Elliott & Ann Peebles\nMe I'm …",
         "_deepnote_index_column": 80
        },
        {
         "album": "Supa Dupa Fly",
         "style": "poprap",
         "gender": "male",
         "title": "Beep Me 911 (Ft. 702 & Magoo)",
         "lyrics": "Intro Timbaland\nUh, uh, uh, like that, uh\nUh\nSay what, say what\nSay what, say what\nUh, uh, uh\nSay w…",
         "_deepnote_index_column": 81
        },
        {
         "album": "The Fool",
         "style": "poprap",
         "gender": "female/male",
         "title": "The Fool Intro",
         "lyrics": "Chorus\nConfess-fess-fess\nConfess, confess (-fess, -fess, -fess, -fess)\nConfess, confess (-fess, -fe…",
         "_deepnote_index_column": 82
        },
        {
         "album": "The Fool",
         "style": "poprap",
         "gender": "female/male",
         "title": "Let's Ride",
         "lyrics": "Intro\n(Whatever)\nVerified Shield\n\nChorus\nJump in the front, let's ride\nInterning at faith but I jus…",
         "_deepnote_index_column": 83
        },
        {
         "album": "The Fool",
         "style": "poprap",
         "gender": "female/male",
         "title": "Hotel Breakfast",
         "lyrics": "Intro\n(Whatever)\n\nChorus\nWalk on promised roads (Ha), I could take a joke (Haha)\nHave you ever seen…",
         "_deepnote_index_column": 84
        },
        {
         "album": "The Fool",
         "style": "poprap",
         "gender": "female/male",
         "title": "I Think...",
         "lyrics": "Intro\nDark outside (Yeah)\nUh-huh (Whatever)\nDark inside\n\nChorus\nThis is what I really want, it is, …",
         "_deepnote_index_column": 85
        },
        {
         "album": "The Fool",
         "style": "poprap",
         "gender": "female/male",
         "title": "Thee 9 Is Up",
         "lyrics": "Intro\nDo you still fancy me?\nAnswer me\nWhat will you do if I find someone else?\nYou're lying\n(Whate…",
         "_deepnote_index_column": 86
        },
        {
         "album": "Boogie Naipe",
         "style": "poprap",
         "gender": "male",
         "title": "Sinta-se Bem Com O Boogie Naipe (Ft. Wilson Simoninha)",
         "lyrics": "Locução Wilson Simoninha\nBoa noite, boa noite\nSejam bem-vindos\nHoje é dia de festa\nHoje é o nosso d…",
         "_deepnote_index_column": 87
        },
        {
         "album": "Boogie Naipe",
         "style": "poprap",
         "gender": "male",
         "title": "Gangsta Boogie (Ft. Lino Krizz)",
         "lyrics": "Introdução Lino Krizz\nFale de mim\nPra você\nMas o melhor que eu pude fazer\nSe errei é só me dizer\nO …",
         "_deepnote_index_column": 88
        },
        {
         "album": "Boogie Naipe",
         "style": "poprap",
         "gender": "male",
         "title": "Mal de Amor (Ft. Ellen Oléria & Lino Krizz)",
         "lyrics": "Refrão Ellen Oléria & Lino Krizz\nEu te avisei\nMas não quis me ouvir\nDeixou eu morrer\nUma hora assim…",
         "_deepnote_index_column": 89
        },
        {
         "album": "Boogie Naipe",
         "style": "poprap",
         "gender": "male",
         "title": "Boa Noite São Paulo (Ft. Lino Krizz & William Magalhães)",
         "lyrics": "Gancho Lino Krizz & William Magalhães\nSozinho na multidão\nBoa noite, São Paulo\nNão me convidou pra …",
         "_deepnote_index_column": 90
        },
        {
         "album": "Boogie Naipe",
         "style": "poprap",
         "gender": "male",
         "title": "Mulher Elétrica (Ft. William Magalhães)",
         "lyrics": "Cê é zica mesmo, ein?\nOK\n\nVerso 1\nEla chega, ela olha, ela bate um flash\nEla invade a pista e ningu…",
         "_deepnote_index_column": 91
        },
        {
         "album": "Boogie Naipe",
         "style": "poprap",
         "gender": "male",
         "title": "Forever Friends",
         "lyrics": "Verse 1\nHold me like a friend\nKiss me like a friend\nSay we'll never end\nSearching for the colors of…",
         "_deepnote_index_column": 92
        },
        {
         "album": "Kodeen Mutantz",
         "style": "poprap",
         "gender": "male",
         "title": "Myself (Ft. Bizerk)",
         "lyrics": "intro Ruben Slikk\nOoooh, oooooooh yeah, oooooh, ooh, oh yeah\nOoooooooh, yeah, yeah\n\nVerse 1 - Ruben…",
         "_deepnote_index_column": 93
        },
        {
         "album": "Kodeen Mutantz",
         "style": "poprap",
         "gender": "male",
         "title": "Wishbone Meex",
         "lyrics": "Wake up F1ilthy\nYung Feeshmeex x3\nYung Bisquick\nI say fishmeex you dumb bitch\n\nHook Ruben Slikk\nBit…",
         "_deepnote_index_column": 94
        },
        {
         "album": "City of Syrup",
         "style": "poprap",
         "gender": "male",
         "title": "Momma M.O.E (Skit)",
         "lyrics": "nan",
         "_deepnote_index_column": 95
        },
        {
         "album": "City of Syrup",
         "style": "poprap",
         "gender": "male",
         "title": "Barre Baby (Ft. Ronetta Spencer)",
         "lyrics": "Hook (x2)\nIt's the Barre Baby (huh?)\nThe Barre Baby (who?)\nThe Barre Baby (what?)\nThe Barre Baby\n\nV…",
         "_deepnote_index_column": 96
        },
        {
         "album": "City of Syrup",
         "style": "poprap",
         "gender": "male",
         "title": "Get Back (Ft. Big Hawk & Lil' O)",
         "lyrics": "Intro Lil' O (Big Moe)\nAnd another one\n(And another one)\n\nHook Big Moe\nGet back, get back\nAll you h…",
         "_deepnote_index_column": 97
        },
        {
         "album": "City of Syrup",
         "style": "poprap",
         "gender": "male",
         "title": "Maan!! (Ft. Big Pokey & E.S.G.)",
         "lyrics": "Verse 1 Big Moe\nI done hit the pint to the head like Maan!!\nComin' down gotta potent ass purple Spr…",
         "_deepnote_index_column": 98
        },
        {
         "album": "City of Syrup",
         "style": "poprap",
         "gender": "male",
         "title": "We da' Shit! (Ft. E.S.G. & Z-Ro)",
         "lyrics": "Hook Big Moe and Z-Ro\nRolls wheels and get rolled over, south side soldiers\nWe da shit bitch, I kno…",
         "_deepnote_index_column": 99
        },
        {
         "album": "Miss E ...So Addictive",
         "style": "poprap",
         "gender": "female/male",
         "title": "...So Addictive (Ft. Tweet)",
         "lyrics": "Missy & Tweet\nI know some of y'all sick of songs y'all be hearin' on the radio, oh (Oh)\nSo me and T…",
         "_deepnote_index_column": 100
        },
        {
         "album": "Miss E ...So Addictive",
         "style": "poprap",
         "gender": "female/male",
         "title": "Dog in Heat (Ft. Method Man & Redman)",
         "lyrics": "Intro Missy Elliott\nGimme that funk, um\nFunk, um\nYo, gimme that funk\nOh yeah, baby, gimme that funk…",
         "_deepnote_index_column": 101
        },
        {
         "album": "Miss E ...So Addictive",
         "style": "poprap",
         "gender": "female/male",
         "title": "One Minute Man (Ft. Ludacris)",
         "lyrics": "Intro Missy Elliott\nDon't want, I don't need, I can't stand no minute man\nI don't want no minute ma…",
         "_deepnote_index_column": 102
        },
        {
         "album": "Miss E ...So Addictive",
         "style": "poprap",
         "gender": "female/male",
         "title": "Lick Shots",
         "lyrics": "Intro Missy\nUh, ayo, Timbaland\nSee, what they don't understand\nIs we about to flip our whole style …",
         "_deepnote_index_column": 103
        },
        {
         "album": "Miss E ...So Addictive",
         "style": "poprap",
         "gender": "female/male",
         "title": "Get Ur Freak On",
         "lyrics": "Intro\nKore kara minna de mechakucha odotte\nSawagou sawagou\nHeadbanger\nHit me\nHit me (Hit me)\nHit me…",
         "_deepnote_index_column": 104
        },
        {
         "album": "Astromantic",
         "style": "poprap",
         "gender": "male",
         "title": "The 3rd Impact",
         "lyrics": "Yeah\nAll the way live from the Spectrum City\nIt's the 3rd mediarite-flo album\nLet me start with a q…",
         "_deepnote_index_column": 105
        },
        {
         "album": "Astromantic",
         "style": "poprap",
         "gender": "male",
         "title": "​miss you by ​m-flo loves melody. & ryohei yamamoto",
         "lyrics": "m-flo loves melody. & 山本領平「miss you」歌詞\n\nIntro melody. & Verbal\nDJ play that music louder お願い\nBoom, …",
         "_deepnote_index_column": 106
        },
        {
         "album": "Astromantic",
         "style": "poprap",
         "gender": "male",
         "title": "STARSTRUCK~\"The Return of the LuvBytes\" by ​m-flo loves AI & Emi Hinouchi & Rum (Heartsdales)",
         "lyrics": "Verbal\nEverybody in the place, yo, we starstruck\nHa! I see some beautiful people out there tonight\n…",
         "_deepnote_index_column": 107
        },
        {
         "album": "Astromantic",
         "style": "poprap",
         "gender": "male",
         "title": "VANESSA by ​m-flo loves Bloodest Saxophone",
         "lyrics": "m-flo loves Bloodest Saxophone「VANESSA」歌詞\n\nHey Vanessa! Won't you dance with me?\nHey Vanessa! Tell …",
         "_deepnote_index_column": 108
        },
        {
         "album": "Astromantic",
         "style": "poprap",
         "gender": "male",
         "title": "Every Hour (Ft. Sunday Service Choir)",
         "lyrics": "Chorus\nSing every hour (Every hour, 'til the power)\nEvery minute (Every minute, of the Lord)\nEvery …",
         "_deepnote_index_column": 109
        },
        {
         "album": "Yandhi Is King",
         "style": "poprap",
         "gender": "male",
         "title": "Selah",
         "lyrics": "Verse 1 Kanye West\nGod is King, we the soldiers\nUltrabeam out the solar\nWhen I get to Heaven's gate…",
         "_deepnote_index_column": 110
        },
        {
         "album": "Yandhi Is King",
         "style": "poprap",
         "gender": "male",
         "title": "Follow God",
         "lyrics": "Intro\nFather, I stretch\nStretch my hands to You\n\nVerse\nLifelike, this is what your life like, try t…",
         "_deepnote_index_column": 111
        },
        {
         "album": "Yandhi Is King",
         "style": "poprap",
         "gender": "male",
         "title": "Closed on Sunday",
         "lyrics": "Chorus\nClosed on Sunday, you're my Chick-fil-A\nClosed on Sunday, you my Chick-fil-A\nHold the selfie…",
         "_deepnote_index_column": 112
        },
        {
         "album": "Yandhi Is King",
         "style": "poprap",
         "gender": "male",
         "title": "On God",
         "lyrics": "Intro\nYo, Pi'erre, yo, Pi'erre\n\nVerse\n\"How you get so much favor on your side?\"\n\"Accept Him as your…",
         "_deepnote_index_column": 113
        },
        {
         "album": "Yandhi Is King",
         "style": "poprap",
         "gender": "male",
         "title": "Mercy",
         "lyrics": "Intro Fuzzy Jones\nWell, it is a weepin' and a moanin' and a gnashin' of teeth\nIt is a weepin' and a…",
         "_deepnote_index_column": 114
        },
        {
         "album": "Yandhi Is King",
         "style": "poprap",
         "gender": "male",
         "title": "Niggas in Paris",
         "lyrics": "Intro\nWe're gonna skate to one song, one song only\nBall so hard, motherfuckers wanna fine me\n\nVerse…",
         "_deepnote_index_column": 115
        },
        {
         "album": "ye",
         "style": "poprap",
         "gender": "female/male",
         "title": "Father Stretch My Hands, Pt. 1",
         "lyrics": "Intro Pastor T.L. Barrett / Choir & Future\nYou're the only power (Power)\nYou're the only power that…",
         "_deepnote_index_column": 116
        },
        {
         "album": "ye",
         "style": "poprap",
         "gender": "female/male",
         "title": "Monster",
         "lyrics": "Intro Justin Vernon\nI shoot the lights out\nHide 'til it's bright out\nOh, just another lonely night\n…",
         "_deepnote_index_column": 117
        },
        {
         "album": "ye",
         "style": "poprap",
         "gender": "female/male",
         "title": "Ultralight Beam",
         "lyrics": "Intro Samoria Green & Natalie Green\n(Yes, God)\nWe don't want no devils in the house, God (Yes, Lord…",
         "_deepnote_index_column": 118
        }
       ]
      },
      "text/plain": "                     album    style       gender  \\\nNaN                  Album    style       Gender   \n0.0    To Pimp a Butterfly  jazzrap         male   \n1.0    To Pimp a Butterfly  jazzrap         male   \n2.0    To Pimp a Butterfly  jazzrap         male   \n3.0    To Pimp a Butterfly  jazzrap         male   \n...                    ...      ...          ...   \n114.0       Yandhi Is King   poprap         male   \n115.0       Yandhi Is King   poprap         male   \n116.0                   ye   poprap  female/male   \n117.0                   ye   poprap  female/male   \n118.0                   ye   poprap  female/male   \n\n                                                   title  \\\nNaN                                            Song name   \n0.0    Wesley's Theory (Ft. George Clinton & Thundercat)   \n1.0                                For Free? (Interlude)   \n2.0                                           King Kunta   \n3.0    Institutionalized (Ft. Anna Wise, Bilal & Snoo...   \n...                                                  ...   \n114.0                                              Mercy   \n115.0                                    Niggas in Paris   \n116.0                     Father Stretch My Hands, Pt. 1   \n117.0                                            Monster   \n118.0                                    Ultralight Beam   \n\n                                                  lyrics  \nNaN                                               Lyrics  \n0.0    \\nSample: Boris Gardiner\\nEvery nigga is a sta...  \n1.0    Fuck you, motherfucker, you a ho-ass nigga\\nI ...  \n2.0    I got a bone to pick\\nI don't want you monkey-...  \n3.0    What money got to do with it\\nWhen I don't kno...  \n...                                                  ...  \n114.0  Intro Fuzzy Jones\\nWell, it is a weepin' and a...  \n115.0  Intro\\nWe're gonna skate to one song, one song...  \n116.0  Intro Pastor T.L. Barrett / Choir & Future\\nYo...  \n117.0  Intro Justin Vernon\\nI shoot the lights out\\nH...  \n118.0  Intro Samoria Green & Natalie Green\\n(Yes, God...  \n\n[413 rows x 5 columns]",
      "text/html": "<div>\n<style scoped>\n    .dataframe tbody tr th:only-of-type {\n        vertical-align: middle;\n    }\n\n    .dataframe tbody tr th {\n        vertical-align: top;\n    }\n\n    .dataframe thead th {\n        text-align: right;\n    }\n</style>\n<table border=\"1\" class=\"dataframe\">\n  <thead>\n    <tr style=\"text-align: right;\">\n      <th></th>\n      <th>album</th>\n      <th>style</th>\n      <th>gender</th>\n      <th>title</th>\n      <th>lyrics</th>\n    </tr>\n  </thead>\n  <tbody>\n    <tr>\n      <th>NaN</th>\n      <td>Album</td>\n      <td>style</td>\n      <td>Gender</td>\n      <td>Song name</td>\n      <td>Lyrics</td>\n    </tr>\n    <tr>\n      <th>0.0</th>\n      <td>To Pimp a Butterfly</td>\n      <td>jazzrap</td>\n      <td>male</td>\n      <td>Wesley's Theory (Ft. George Clinton &amp; Thundercat)</td>\n      <td>\\nSample: Boris Gardiner\\nEvery nigga is a sta...</td>\n    </tr>\n    <tr>\n      <th>1.0</th>\n      <td>To Pimp a Butterfly</td>\n      <td>jazzrap</td>\n      <td>male</td>\n      <td>For Free? (Interlude)</td>\n      <td>Fuck you, motherfucker, you a ho-ass nigga\\nI ...</td>\n    </tr>\n    <tr>\n      <th>2.0</th>\n      <td>To Pimp a Butterfly</td>\n      <td>jazzrap</td>\n      <td>male</td>\n      <td>King Kunta</td>\n      <td>I got a bone to pick\\nI don't want you monkey-...</td>\n    </tr>\n    <tr>\n      <th>3.0</th>\n      <td>To Pimp a Butterfly</td>\n      <td>jazzrap</td>\n      <td>male</td>\n      <td>Institutionalized (Ft. Anna Wise, Bilal &amp; Snoo...</td>\n      <td>What money got to do with it\\nWhen I don't kno...</td>\n    </tr>\n    <tr>\n      <th>...</th>\n      <td>...</td>\n      <td>...</td>\n      <td>...</td>\n      <td>...</td>\n      <td>...</td>\n    </tr>\n    <tr>\n      <th>114.0</th>\n      <td>Yandhi Is King</td>\n      <td>poprap</td>\n      <td>male</td>\n      <td>Mercy</td>\n      <td>Intro Fuzzy Jones\\nWell, it is a weepin' and a...</td>\n    </tr>\n    <tr>\n      <th>115.0</th>\n      <td>Yandhi Is King</td>\n      <td>poprap</td>\n      <td>male</td>\n      <td>Niggas in Paris</td>\n      <td>Intro\\nWe're gonna skate to one song, one song...</td>\n    </tr>\n    <tr>\n      <th>116.0</th>\n      <td>ye</td>\n      <td>poprap</td>\n      <td>female/male</td>\n      <td>Father Stretch My Hands, Pt. 1</td>\n      <td>Intro Pastor T.L. Barrett / Choir &amp; Future\\nYo...</td>\n    </tr>\n    <tr>\n      <th>117.0</th>\n      <td>ye</td>\n      <td>poprap</td>\n      <td>female/male</td>\n      <td>Monster</td>\n      <td>Intro Justin Vernon\\nI shoot the lights out\\nH...</td>\n    </tr>\n    <tr>\n      <th>118.0</th>\n      <td>ye</td>\n      <td>poprap</td>\n      <td>female/male</td>\n      <td>Ultralight Beam</td>\n      <td>Intro Samoria Green &amp; Natalie Green\\n(Yes, God...</td>\n    </tr>\n  </tbody>\n</table>\n<p>413 rows × 5 columns</p>\n</div>"
     },
     "metadata": {}
    }
   ],
   "execution_count": null
  },
  {
   "cell_type": "code",
   "metadata": {
    "tags": [],
    "cell_id": "00003-cb0b9b66-377e-49fe-9d02-3b7f1c324ec9",
    "deepnote_to_be_reexecuted": false,
    "source_hash": "83fdab7b",
    "execution_start": 1636179811267,
    "execution_millis": 3366,
    "deepnote_cell_type": "code"
   },
   "source": "df['pca'] = (\n            df['lyrics']\n            .pipe(hero.clean)\n            .pipe(hero.tfidf)\n            .pipe(hero.pca)\n   )",
   "outputs": [],
   "execution_count": null
  },
  {
   "cell_type": "code",
   "metadata": {
    "tags": [],
    "cell_id": "00006-fba1b18b-c909-48ae-9fdb-79a533e79f43",
    "deepnote_to_be_reexecuted": false,
    "source_hash": "b623e53d",
    "execution_start": 1636179814639,
    "execution_millis": 5,
    "deepnote_cell_type": "code"
   },
   "source": "",
   "outputs": [],
   "execution_count": null
  },
  {
   "cell_type": "code",
   "metadata": {
    "tags": [],
    "cell_id": "00004-2d44cf71-901a-4511-b0b5-166353d1c167",
    "deepnote_to_be_reexecuted": false,
    "source_hash": "35b7ef7c",
    "execution_start": 1636179814652,
    "execution_millis": 2431,
    "deepnote_cell_type": "code"
   },
   "source": "hero.scatterplot(df, col='pca', color='gender', title=\"Gender of rapper\")\n",
   "outputs": [
    {
     "data": {
      "text/html": "<html>\n<head><meta charset=\"utf-8\" /></head>\n<body>\n    <div>            <script src=\"https://cdnjs.cloudflare.com/ajax/libs/mathjax/2.7.5/MathJax.js?config=TeX-AMS-MML_SVG\"></script><script type=\"text/javascript\">if (window.MathJax) {MathJax.Hub.Config({SVG: {font: \"STIX-Web\"}});}</script>                <script type=\"text/javascript\">window.PlotlyConfig = {MathJaxConfig: 'local'};</script>\n        <script src=\"https://cdn.plot.ly/plotly-2.4.2.min.js\"></script>                <div id=\"7c3d5759-128c-426e-8c71-29efdcc6b74f\" class=\"plotly-graph-div\" style=\"height:525px; width:100%;\"></div>            <script type=\"text/javascript\">                                    window.PLOTLYENV=window.PLOTLYENV || {};                                    if (document.getElementById(\"7c3d5759-128c-426e-8c71-29efdcc6b74f\")) {                    Plotly.newPlot(                        \"7c3d5759-128c-426e-8c71-29efdcc6b74f\",                        [{\"hovertemplate\":\"gender=Gender<br>x=%{x}<br>y=%{y}<extra></extra>\",\"legendgroup\":\"Gender\",\"marker\":{\"color\":\"#636efa\",\"symbol\":\"circle\"},\"mode\":\"markers\",\"name\":\"Gender\",\"orientation\":\"v\",\"showlegend\":true,\"type\":\"scatter\",\"x\":[0.14535742829405413,0.14535742829405415,0.14535742829405415],\"xaxis\":\"x\",\"y\":[-0.04619630516497976,-0.04619630516497975,-0.04619630516497975],\"yaxis\":\"y\"},{\"hovertemplate\":\"gender=male<br>x=%{x}<br>y=%{y}<extra></extra>\",\"legendgroup\":\"male\",\"marker\":{\"color\":\"#EF553B\",\"symbol\":\"circle\"},\"mode\":\"markers\",\"name\":\"male\",\"orientation\":\"v\",\"showlegend\":true,\"type\":\"scatter\",\"x\":[-0.16866806202558415,-0.12696248101496796,-0.07764072979960386,-0.058227351354627956,-0.0668678205456627,0.08258747524906895,-0.0462637078253918,-0.052669609585389424,-0.07029237357778088,-0.056719812547075504,0.020853817181073,0.023022023480697314,0.018392920682291702,-0.07576505731995989,-0.07306571402909301,0.11927600802210726,-0.11637901729074158,0.03419398045627192,-0.20994260956850316,-0.06597361428575554,-0.029490801945069606,-0.07824777178156385,0.09560781291726932,-0.060928115589077146,0.021478751860646288,-0.027348010243681258,-0.021066714999421806,-0.009304772624499597,0.011439719470252538,-0.06066026189528574,-0.057928323879189704,-0.04428074042129512,-0.024512258268283873,-0.016765320126751526,0.10135080921774944,-0.13000482833207103,-0.12685436007847162,-0.045490044099294136,-0.08339653299736711,-0.13712477802290884,-0.07279153756102429,-0.06124122890496621,-0.13319723621480492,-0.03888491208170355,-0.13938798643089653,-0.06774811882804332,0.009746995257264588,-0.06586468172777626,-0.05787907690586069,-0.022303495488276186,-0.12631858765796017,-0.11651860918123101,-0.061446441480711315,-0.10007835169941355,-0.1125120940312939,0.01980002452087514,0.020698410663380955,-0.0638521956893913,0.11214816996933777,-0.06426387430337935,-0.010073998135383008,0.008789590318067444,-0.008472044814508606,-0.018865406525074638,-0.01785206473925961,-0.11675735149520895,-0.17285097835319535,-0.06314833656892863,-0.06314833656892863,-0.04844537301356437,-0.0006317553821578685,0.06937796813547892,-0.09135388627058068,0.08226338546580031,0.04402670805617845,0.0006319624901402164,-0.00015858973122744429,0.01412655998607307,0.028979116614436758,0.042405120127767974,-0.08517016582530376,-0.019179190980456305,-0.01418203124827736,0.00932092141287898,0.044792946677814784,-0.18862473356199147,-0.18198273971301773,-0.10638298012750781,-0.1866330915071574,0.0882354017169879,0.057229104548406434,-0.1350218572800101,-0.15821249797923112,-0.03067753595900545,-0.07746041146282776,-0.07771354830617255,-0.084145830885368,-0.018680760149995413,0.021339140692318306,-0.06277798197046557,-0.04037899804291701,-0.06501573619263461,-0.022830460794043005,-0.03432483651747216,-0.2688989973434534,-0.1597179059168832,-0.0865712375788955,0.11492401334174955,0.1274688973722907,0.13511168234710177,0.140668837912397,0.13362799213135143,0.1209858440441316,0.11620615812604841,0.13225247222233916,0.11546593165810243,0.12900708464279023,-0.21807408536980316,-0.14468169367980807,-0.04956159201837296,-0.23203925899403005,-0.1230687550854792,0.08582313286220802,0.05640297846836295,0.32231196815471086,0.29913721345809713,0.2735066492225288,0.25754919078130073,0.2088173526652146,-0.18992872806283237,-0.08924599382055988,-0.23678566262667328,-0.2531903291420139,-0.13894032862899278,0.15058279158618304,0.21777193775510753,0.20072392369466027,0.14885111718340438,-0.11415506591004787,-0.007843244630971585,-0.07743808474054652,-0.05777066141911293,-0.0626218916935636,-0.03275288064621256,-0.024223008118239745,-0.08851630933202205,-0.07883721854987684,-0.07427164019617938,-0.18646224424339763,-0.1616744947092505,-0.05183359703123035,-0.10726575162190459,-0.10614772770122996,0.17836618888920416,0.19633025609092972,0.207524605690819,0.12548713046146362,0.1274727636289987,0.19594052298691084,0.18942786184952934,0.19925396532795353,0.17719976430581566,0.21699341002262312,-0.13813580595860614,-0.12270949590050446,-0.23503879600028096,-0.20305770645972399,-0.24577347333445893,-0.14345513873631216,0.035894007213661934,-0.03704562787845406,-0.04431267832975653,-0.007947034912577772,-0.11234945035765015,0.21785409886504495,0.1624100332838557,0.14939231553261872,0.1904319231659214,0.17127144044750883,0.05092504020527522,-0.030532956745117835,-0.11053454072462278,-0.12618444125491998,-0.14153800898896132,-0.06390557863324813,-0.10736600883229154,-0.02035750039760425,0.0033748026629897157,-0.10185598991970583,0.40413991677941374,0.3752815835243924,0.34276305643932253,0.2988663771588468,0.4008846810028097,0.12944577200408902,0.15621718544007263,0.126422871732342,0.16764394530750076,0.1343407079257892,0.005170344943798346,-0.2231718084949904,-0.11862110398312528,-0.18769706415516857,-0.03428240354065392,0.19748889262440653,0.20006078276021552,0.20768118039226544,0.24224300213239905,0.22312881297155165,-0.02423154869089503,-0.161182693822614,-0.0787462563047253,0.12204929898102555,-0.07075919753043526,0.019592837483449123,-0.15393725789216464,-0.128152807069463,-0.05035469166295345,0.04665944443583903,-0.06412459364330021,-0.05218750208531099,-0.1127368940304795,-0.14720815142930294,0.026142860221046716,0.0376949835580297,-0.04312696067293977,-0.04807993547554542,-0.027893372395672272,0.05464518031888869,-0.14171633164838754,0.005437915196020883,-0.033254126402673695,0.07073857761530541,-0.10171314033323502,-0.18405975226207566,-0.06656456155952734,0.06345062175946184,-0.0337349137912581,-0.02593177658229539,-0.08176891877268647,-0.07829753699972226,0.010790356352950971,-0.14668542180922328,-0.2297485527990815,-0.031483459777306336,-0.10403422439351902,0.03399394281132394,0.0104818911572216,0.09974183790854833,-0.029597343711321215,0.02375943239601019,-0.01508396196890646,-0.0815438130896352,-0.14765593263544818,-0.0367149506050739,-0.11281931201429596,0.06149386080632728,0.0791563138505226,-0.08576505679849453,-0.06576431699114048,-0.12058795451666357,-0.08877053808315172,-0.10855758291454079,-0.08667349387250667,-0.03874573430186945,-0.001604250078792017,-0.02170274058407362,0.017363597012084165,-0.09751228666782343,-0.035887960904908284,-0.11800537160320342,0.04510500182978022,-0.06897552981028025,0.20749951839017258,0.3388813144022858,0.3018358374504062,0.269296297105272,0.20982079913183752,-0.025326087770128115,-0.09686536472350095,-0.12451180138403192,0.0882354017169879,0.020108014688865538,-0.05081178255577224,0.03503210160589617,-0.024356845282359412,0.01905110923624955,0.03845122549266848,0.016855726759744803,0.05997178392837409,0.02903891663788596,0.05242144173051519,-0.09122929695208261,0.0012305570304923,-0.04166196227386127,0.017032770822123795,-0.07270744684916959],\"xaxis\":\"x\",\"y\":[0.018556688519874603,-0.009517274399475471,-0.05851843228474021,-0.025701766719710965,0.23578064750712402,-0.02610262692302225,-0.04523542512191825,-0.0263888243769743,-0.036385201930691856,-0.028459951136066385,0.13350342814620936,-0.00934648007684619,-0.029051480131051712,-0.032958407287390794,-0.023729850046308797,-0.01325057059123561,-0.10034434878290423,-0.02337968134186916,0.38460582781191316,-0.01624156208771145,0.004459779152121556,0.30742922139739554,-0.02055123955642525,-0.03198659305303145,-0.03243785935693453,-0.049296557708467074,-0.041889680838092413,-0.040899660268469196,-0.04109374310853873,-0.057544832760887316,0.380549167103793,-0.052091949080930504,-0.04249870116592372,-0.012084998952877065,-0.01738678595049255,-0.043678711594908375,0.09961469000114478,-0.02983656253470386,-0.01899453114103799,-0.023213344439684543,-0.03080187500334172,-0.03070187696153615,-0.03250119141276676,-0.02602035313899392,-0.05432267855947296,-0.05549638682589531,-0.03563183249158402,-0.06323778351559074,-0.05652655387049442,-0.0539216048672886,-0.06452279729963878,-0.03571846153855082,-0.010208285382038027,-0.0417812824574584,-0.02402326406352268,-0.042171956848925704,-0.05509048611806773,-0.02528640828713308,-0.017432976328195442,0.00286380796550736,-0.019149105985833505,-0.017496375602972517,-0.010929690040978792,-0.017878016610598967,-0.0147332814192172,-0.03351850489138331,0.03154672028699464,-0.06213329744077574,-0.06213329744077574,-0.03226237402124447,0.14251502941362099,0.06386679494441262,0.16164452630739645,-0.018519401206198393,-0.032009019312876,-0.03359538713478769,-0.02437644456683178,-0.014438919444691039,-0.02576000867924675,-0.025831571610598524,-0.025643987521043726,-0.06103655025398076,-0.029035906645245663,-0.037604416102766144,-0.0468025137507332,-0.012935704229308436,-0.05118470765640615,-0.007684325630536366,-0.037941549448668246,-0.014750475506897863,-0.013388463993259821,0.385328308854385,-0.0040016119993277165,-0.0761264367742307,-0.0024107758912267747,0.011680301980108722,-0.04012734033267731,-0.12328548145893725,-0.018174738894275608,0.02509621011490697,-0.042861655220332466,-0.04925021928845287,0.018136120000478397,0.03188264877748243,0.37823746413959225,0.1691685972549258,-0.021525680778790114,-0.012842584583595497,-0.024612407098487908,-0.01879259034678781,-0.013020503631771601,-0.013011684163199276,-0.018416836412040782,0.024956110120086097,-0.014724804576217068,-0.02096108627655289,-0.020333678887538488,-0.015708848646166552,0.013508326793852403,-0.025200500093231406,-8.877179196460641e-05,-0.013082091125326007,-0.022267949848452526,-0.028750610896215334,0.01704492540955896,0.009932509329537492,0.004250920559780282,0.0029711963141239727,-0.007733321738771187,0.10194953352830212,0.006390000104440962,0.26554575587984436,0.5354214786821235,-0.0008908034558954757,-0.04189438093544527,-0.078585601241929,-0.07071077218199243,-0.04398441904531673,0.06543134646401469,-0.016498187542712626,-0.007246609257329173,-0.0013004757168658342,-0.02438681878659348,-0.02761601045177373,-0.02582676452006904,-0.00016946594120951903,-0.024719312443375187,-0.03107330605213207,0.5143408213626517,0.4806787603773214,0.3311331860350414,0.3922318833885364,0.38206082344244513,-0.05932933741364059,-0.06377055765345328,-0.07224024553534901,-0.0276113869760164,-0.03167525545713096,-0.06443295143493373,-0.06367996812551656,-0.07027299529652538,-0.05734781671892355,-0.062491627748440734,0.007233376539595961,-0.0067117899185834655,0.0030178836277914792,0.05613397804899854,0.015811953102566226,-0.021582165610633107,-0.022156478217586952,-0.011541794592502444,0.0033319981623085963,-0.018076361356756446,-0.03787239982045789,-0.08059027259488057,-0.05941554806962856,-0.04897872185179959,-0.06606391688663743,-0.053251888578963694,-0.019601110303573553,-0.016015386860584485,-0.02330805180498197,-0.03653292688113085,-0.03913170387299776,-0.01515515040790669,-0.003319276496123399,-0.019444726671267197,-0.04024600113993955,-0.03411991622144241,0.33445199693095695,0.27666190386076994,0.2921784892981632,0.2270086181658726,0.3504446020076597,0.02432675827879855,-0.018232450702654984,-0.01991809483016007,-0.009996345372980513,-0.01804846313691736,-0.0563299917850687,0.018710769561739414,-0.010144628680369642,0.03645864825908006,-0.03950233735942503,0.05303354684411812,0.02078846527633385,0.02624753407290212,0.042481231613610504,0.023417087103457104,-0.13925116222218042,-0.03982686344359004,-0.057517414895817055,-0.022206671915269403,-0.042325166312216306,-0.028063784206208694,-0.07292374346852816,0.21015129623999582,-0.0654828540389366,-0.05889113332155539,-0.05882664074309545,-0.0810187991164578,0.15644508874527535,-0.038790462785437616,-0.0284787080526369,-0.0191584787284489,0.04903709358078902,-0.1075341353695496,-0.06320256936250063,-0.00022867753884148564,-0.1076784840793641,-0.12131913616677265,-0.07011449727656681,-0.04072367658539811,-0.0318475093001766,-0.0160612828972807,-0.021793796430654665,-0.006066963374165563,-0.0052489688952819715,-0.08570972973283184,-0.03885080477925987,-0.04753021142911191,-0.03952500090809072,-0.04316252785967353,0.5049338676703657,-0.023145852256919595,0.02189545575235043,-0.03250524149375353,-0.060774779150608575,-0.019789512409971514,-0.0396321797907767,-0.01779992984642,-0.03946403933600829,-0.02443126921090992,-0.10340266369493044,-0.1211691479006623,-0.018739842466501594,-0.08790743516563057,-0.036916592162659655,-0.04713265421603646,-0.06276967449568703,-0.0738204452157161,-0.05334166176708159,-0.09572813946443154,-0.1118140814807793,-0.03700308241967226,-0.04368254870538355,-0.04658766397659076,-0.039049364203871534,-0.029347005986026003,-0.0437130151192444,-0.06125847713170806,-0.0340721888802238,-0.06497685732819701,-0.010528405056312518,0.00855857941498277,0.010807580286137848,0.00044674902247261006,-0.015661195860502356,-0.03762160877660819,-0.021461202133014643,-0.01666726443810233,-0.014750475506897863,-0.011922185315363772,-0.024668747390633135,-0.018947547866660634,-0.023281102413905682,-0.03282825380220882,0.041969377711149836,-0.012124032558030573,-0.014326915071327764,-0.05507594735584731,-0.0038885188787048386,-0.0529567805291,-0.031543185132906194,-0.04039054977250341,-0.02878416265203784,-0.022793879334370933],\"yaxis\":\"y\"},{\"hovertemplate\":\"gender=female/male<br>x=%{x}<br>y=%{y}<extra></extra>\",\"legendgroup\":\"female/male\",\"marker\":{\"color\":\"#00cc96\",\"symbol\":\"circle\"},\"mode\":\"markers\",\"name\":\"female/male\",\"orientation\":\"v\",\"showlegend\":true,\"type\":\"scatter\",\"x\":[-0.08591153392536546,0.04818743462183812,0.014473456698091,-0.12256862904945122,-0.07236258495523736,-0.03340086743870452,-0.03253630699786483,-0.09424431741935078,0.0883716736743233,-0.047142891930460944,0.07853248067740766,-0.03298878926354739,-0.032207733459726134,-0.025107039674971854,-0.07857832080949584,-0.07418382750322482,-0.00549091070119568,-0.029953406614327396,-0.12994496377403938,-0.03289111475943946,0.042880064232373796,0.02791429897233829,-0.05923727570219737,-0.03461387437802375,-0.06284558777296216,0.12204929898102555,0.01347368153668322,0.0031752879122530294,0.017664540591133815,-0.06353691668350675,-0.052527914902057826,0.02890795524639183,0.029149891616088868,0.024666016667420576,-0.12452275897397877,-0.15078124736310486,-0.011584871677537556,-0.13851566071780097,-0.14119225304610444,0.10766290627255234,0.13876153655041149,0.113256088432914,0.141472634783249,0.13960919279513193,0.11199953850999285,0.18570871141816006,0.2071449668879112,0.04846580387568964,-0.12161472887255667,-0.045265726788555394,-0.11916555142078405,-0.10521924277546485,-0.07331621058446601,-0.14632315156996756,-0.08706132449842297,-0.07057161434238761,-0.08203748650769344,0.007466665687909714,-0.13186374163761444,-0.14171633164838754],\"xaxis\":\"x\",\"y\":[-0.04571196548972739,-0.03343609214311983,-0.03381553481770009,-0.044993868128458965,-0.056995794983547655,-0.0366382995313835,-0.036939542641470854,-0.022874321741652222,-0.021350758657394546,-0.014824491304292049,-0.03202865769085151,-0.0407573807231768,-0.04207491525843238,-0.04340495571546102,-0.06010472224441454,-0.04456701738222717,-0.012428129578919846,-0.02157071045738808,-0.034592108643722606,-0.038598866743697,-0.02541091881721261,-0.03718784988675643,-0.04269337346477061,-0.04396431565515594,-0.030952623352325834,-0.022206671915269403,-0.028872363379786232,-0.021731106354836972,-0.02645385069548752,-0.03738573557497634,-0.04128741500507182,-0.01668633849218023,-0.016771067874660765,-0.014274382314547304,-0.004702743254433672,-0.02010358727927185,-0.024454234619535664,0.57874143375035,-0.052839144633855334,-0.017468119804357998,-2.8654558396989647e-06,-0.014103477240768793,0.008130130212923954,-0.0035975968285057868,-0.0179201341385197,0.019427288502879936,0.017993035242357482,-0.02578216758180931,-0.07079796041565847,-0.017415768031513946,-0.0465903296896929,-0.02680499597927233,-0.07370969083085895,-0.051086374120692744,-0.05786640650782224,-0.041464410913669446,-0.041934809078441056,-0.11902053323790716,-0.05030786484273552,-0.10767848407936409],\"yaxis\":\"y\"},{\"hovertemplate\":\"gender=female<br>x=%{x}<br>y=%{y}<extra></extra>\",\"legendgroup\":\"female\",\"marker\":{\"color\":\"#ab63fa\",\"symbol\":\"circle\"},\"mode\":\"markers\",\"name\":\"female\",\"orientation\":\"v\",\"showlegend\":true,\"type\":\"scatter\",\"x\":[-0.0992457583076931,-0.08652625336690206,-0.08127476754472147,0.04764050040988577,0.01136942649963226,0.037567206467384845,-0.04528929588468071,0.027502677714399137,-0.06476756017167039,-0.016307237079710636,0.2558997520167106,0.289133383903895,0.34582843400367297,0.3092913515971898,0.2976699420996103,-0.03594757496525015,-0.12230338771845171,0.03694282119147038,-0.02926146704933616,-0.10379132981332184],\"xaxis\":\"x\",\"y\":[0.15169426887019438,-0.01722295204490631,-0.03764969320876044,0.01818028500695647,-0.03251682358478466,-0.039048394916094936,-0.053981208853033404,-0.04307719872369729,-0.05599890239698643,-0.029266169805246916,-0.003624619471041371,0.012739746090222444,0.0163734677788327,0.009258568234248992,0.011176298214025066,-0.0631001863041439,-0.04552702028136061,-0.025945028065902088,-0.09837707883756133,-0.05820056735086065],\"yaxis\":\"y\"},{\"hovertemplate\":\"gender=male/female<br>x=%{x}<br>y=%{y}<extra></extra>\",\"legendgroup\":\"male/female\",\"marker\":{\"color\":\"#FFA15A\",\"symbol\":\"circle\"},\"mode\":\"markers\",\"name\":\"male/female\",\"orientation\":\"v\",\"showlegend\":true,\"type\":\"scatter\",\"x\":[-0.08624368011607425,-0.16847894633444396,-0.060133157681582776,-0.056890558616058746,-0.02934066794481178,0.23327395490642705,0.23120294430027102,0.18194998972490997,0.20940051443905025,0.1820343461900888,-0.07005894988292247,-0.09284298339637514,-0.05219144849658099,-0.1784301394395376,-0.1427759485060169,-0.18959141700960047,0.4140338248316715,0.37774438531744003,0.3490174229752905,0.3166839351939157,0.39106153355682,0.047675378258843104,-0.12161472887255667,-0.045265726788555394,-0.11916555142078405,-0.10521924277546485,-0.19035685394220292,-0.1196191221832626,0.18734183945620184,0.19430070755685375,0.2025818319410368,0.21881355509443773,0.21705820135643508],\"xaxis\":\"x\",\"y\":[-0.045785196391060136,-0.03258240629405672,-0.08144714477830142,-0.05405822278862761,-0.04902695507126151,-0.08841264369051989,-0.08812689885740901,-0.05958375199367225,-0.08837215887510787,-0.07280011103556065,0.1875679716118081,0.1677940345562292,-0.04144295924744978,0.3106060482730945,0.2309089080167102,0.37595776064686615,0.3714409626628618,0.336515022075218,0.2988359424816696,0.27166700389955406,0.3617220736694448,-0.025930244585260387,-0.07079796041565847,-0.017415768031513946,-0.0465903296896929,-0.02680499597927233,-0.05574631609775006,-0.031966659422586946,-0.05961898399374241,-0.07091307061630721,-0.06826733008333266,-0.08914377188845937,-0.0726499251170986],\"yaxis\":\"y\"}],                        {\"legend\":{\"title\":{\"text\":\"gender\"},\"tracegroupgap\":0},\"template\":{\"data\":{\"bar\":[{\"error_x\":{\"color\":\"#2a3f5f\"},\"error_y\":{\"color\":\"#2a3f5f\"},\"marker\":{\"line\":{\"color\":\"#E5ECF6\",\"width\":0.5},\"pattern\":{\"fillmode\":\"overlay\",\"size\":10,\"solidity\":0.2}},\"type\":\"bar\"}],\"barpolar\":[{\"marker\":{\"line\":{\"color\":\"#E5ECF6\",\"width\":0.5},\"pattern\":{\"fillmode\":\"overlay\",\"size\":10,\"solidity\":0.2}},\"type\":\"barpolar\"}],\"carpet\":[{\"aaxis\":{\"endlinecolor\":\"#2a3f5f\",\"gridcolor\":\"white\",\"linecolor\":\"white\",\"minorgridcolor\":\"white\",\"startlinecolor\":\"#2a3f5f\"},\"baxis\":{\"endlinecolor\":\"#2a3f5f\",\"gridcolor\":\"white\",\"linecolor\":\"white\",\"minorgridcolor\":\"white\",\"startlinecolor\":\"#2a3f5f\"},\"type\":\"carpet\"}],\"choropleth\":[{\"colorbar\":{\"outlinewidth\":0,\"ticks\":\"\"},\"type\":\"choropleth\"}],\"contour\":[{\"colorbar\":{\"outlinewidth\":0,\"ticks\":\"\"},\"colorscale\":[[0.0,\"#0d0887\"],[0.1111111111111111,\"#46039f\"],[0.2222222222222222,\"#7201a8\"],[0.3333333333333333,\"#9c179e\"],[0.4444444444444444,\"#bd3786\"],[0.5555555555555556,\"#d8576b\"],[0.6666666666666666,\"#ed7953\"],[0.7777777777777778,\"#fb9f3a\"],[0.8888888888888888,\"#fdca26\"],[1.0,\"#f0f921\"]],\"type\":\"contour\"}],\"contourcarpet\":[{\"colorbar\":{\"outlinewidth\":0,\"ticks\":\"\"},\"type\":\"contourcarpet\"}],\"heatmap\":[{\"colorbar\":{\"outlinewidth\":0,\"ticks\":\"\"},\"colorscale\":[[0.0,\"#0d0887\"],[0.1111111111111111,\"#46039f\"],[0.2222222222222222,\"#7201a8\"],[0.3333333333333333,\"#9c179e\"],[0.4444444444444444,\"#bd3786\"],[0.5555555555555556,\"#d8576b\"],[0.6666666666666666,\"#ed7953\"],[0.7777777777777778,\"#fb9f3a\"],[0.8888888888888888,\"#fdca26\"],[1.0,\"#f0f921\"]],\"type\":\"heatmap\"}],\"heatmapgl\":[{\"colorbar\":{\"outlinewidth\":0,\"ticks\":\"\"},\"colorscale\":[[0.0,\"#0d0887\"],[0.1111111111111111,\"#46039f\"],[0.2222222222222222,\"#7201a8\"],[0.3333333333333333,\"#9c179e\"],[0.4444444444444444,\"#bd3786\"],[0.5555555555555556,\"#d8576b\"],[0.6666666666666666,\"#ed7953\"],[0.7777777777777778,\"#fb9f3a\"],[0.8888888888888888,\"#fdca26\"],[1.0,\"#f0f921\"]],\"type\":\"heatmapgl\"}],\"histogram\":[{\"marker\":{\"pattern\":{\"fillmode\":\"overlay\",\"size\":10,\"solidity\":0.2}},\"type\":\"histogram\"}],\"histogram2d\":[{\"colorbar\":{\"outlinewidth\":0,\"ticks\":\"\"},\"colorscale\":[[0.0,\"#0d0887\"],[0.1111111111111111,\"#46039f\"],[0.2222222222222222,\"#7201a8\"],[0.3333333333333333,\"#9c179e\"],[0.4444444444444444,\"#bd3786\"],[0.5555555555555556,\"#d8576b\"],[0.6666666666666666,\"#ed7953\"],[0.7777777777777778,\"#fb9f3a\"],[0.8888888888888888,\"#fdca26\"],[1.0,\"#f0f921\"]],\"type\":\"histogram2d\"}],\"histogram2dcontour\":[{\"colorbar\":{\"outlinewidth\":0,\"ticks\":\"\"},\"colorscale\":[[0.0,\"#0d0887\"],[0.1111111111111111,\"#46039f\"],[0.2222222222222222,\"#7201a8\"],[0.3333333333333333,\"#9c179e\"],[0.4444444444444444,\"#bd3786\"],[0.5555555555555556,\"#d8576b\"],[0.6666666666666666,\"#ed7953\"],[0.7777777777777778,\"#fb9f3a\"],[0.8888888888888888,\"#fdca26\"],[1.0,\"#f0f921\"]],\"type\":\"histogram2dcontour\"}],\"mesh3d\":[{\"colorbar\":{\"outlinewidth\":0,\"ticks\":\"\"},\"type\":\"mesh3d\"}],\"parcoords\":[{\"line\":{\"colorbar\":{\"outlinewidth\":0,\"ticks\":\"\"}},\"type\":\"parcoords\"}],\"pie\":[{\"automargin\":true,\"type\":\"pie\"}],\"scatter\":[{\"marker\":{\"colorbar\":{\"outlinewidth\":0,\"ticks\":\"\"}},\"type\":\"scatter\"}],\"scatter3d\":[{\"line\":{\"colorbar\":{\"outlinewidth\":0,\"ticks\":\"\"}},\"marker\":{\"colorbar\":{\"outlinewidth\":0,\"ticks\":\"\"}},\"type\":\"scatter3d\"}],\"scattercarpet\":[{\"marker\":{\"colorbar\":{\"outlinewidth\":0,\"ticks\":\"\"}},\"type\":\"scattercarpet\"}],\"scattergeo\":[{\"marker\":{\"colorbar\":{\"outlinewidth\":0,\"ticks\":\"\"}},\"type\":\"scattergeo\"}],\"scattergl\":[{\"marker\":{\"colorbar\":{\"outlinewidth\":0,\"ticks\":\"\"}},\"type\":\"scattergl\"}],\"scattermapbox\":[{\"marker\":{\"colorbar\":{\"outlinewidth\":0,\"ticks\":\"\"}},\"type\":\"scattermapbox\"}],\"scatterpolar\":[{\"marker\":{\"colorbar\":{\"outlinewidth\":0,\"ticks\":\"\"}},\"type\":\"scatterpolar\"}],\"scatterpolargl\":[{\"marker\":{\"colorbar\":{\"outlinewidth\":0,\"ticks\":\"\"}},\"type\":\"scatterpolargl\"}],\"scatterternary\":[{\"marker\":{\"colorbar\":{\"outlinewidth\":0,\"ticks\":\"\"}},\"type\":\"scatterternary\"}],\"surface\":[{\"colorbar\":{\"outlinewidth\":0,\"ticks\":\"\"},\"colorscale\":[[0.0,\"#0d0887\"],[0.1111111111111111,\"#46039f\"],[0.2222222222222222,\"#7201a8\"],[0.3333333333333333,\"#9c179e\"],[0.4444444444444444,\"#bd3786\"],[0.5555555555555556,\"#d8576b\"],[0.6666666666666666,\"#ed7953\"],[0.7777777777777778,\"#fb9f3a\"],[0.8888888888888888,\"#fdca26\"],[1.0,\"#f0f921\"]],\"type\":\"surface\"}],\"table\":[{\"cells\":{\"fill\":{\"color\":\"#EBF0F8\"},\"line\":{\"color\":\"white\"}},\"header\":{\"fill\":{\"color\":\"#C8D4E3\"},\"line\":{\"color\":\"white\"}},\"type\":\"table\"}]},\"layout\":{\"annotationdefaults\":{\"arrowcolor\":\"#2a3f5f\",\"arrowhead\":0,\"arrowwidth\":1},\"autotypenumbers\":\"strict\",\"coloraxis\":{\"colorbar\":{\"outlinewidth\":0,\"ticks\":\"\"}},\"colorscale\":{\"diverging\":[[0,\"#8e0152\"],[0.1,\"#c51b7d\"],[0.2,\"#de77ae\"],[0.3,\"#f1b6da\"],[0.4,\"#fde0ef\"],[0.5,\"#f7f7f7\"],[0.6,\"#e6f5d0\"],[0.7,\"#b8e186\"],[0.8,\"#7fbc41\"],[0.9,\"#4d9221\"],[1,\"#276419\"]],\"sequential\":[[0.0,\"#0d0887\"],[0.1111111111111111,\"#46039f\"],[0.2222222222222222,\"#7201a8\"],[0.3333333333333333,\"#9c179e\"],[0.4444444444444444,\"#bd3786\"],[0.5555555555555556,\"#d8576b\"],[0.6666666666666666,\"#ed7953\"],[0.7777777777777778,\"#fb9f3a\"],[0.8888888888888888,\"#fdca26\"],[1.0,\"#f0f921\"]],\"sequentialminus\":[[0.0,\"#0d0887\"],[0.1111111111111111,\"#46039f\"],[0.2222222222222222,\"#7201a8\"],[0.3333333333333333,\"#9c179e\"],[0.4444444444444444,\"#bd3786\"],[0.5555555555555556,\"#d8576b\"],[0.6666666666666666,\"#ed7953\"],[0.7777777777777778,\"#fb9f3a\"],[0.8888888888888888,\"#fdca26\"],[1.0,\"#f0f921\"]]},\"colorway\":[\"#636efa\",\"#EF553B\",\"#00cc96\",\"#ab63fa\",\"#FFA15A\",\"#19d3f3\",\"#FF6692\",\"#B6E880\",\"#FF97FF\",\"#FECB52\"],\"font\":{\"color\":\"#2a3f5f\"},\"geo\":{\"bgcolor\":\"white\",\"lakecolor\":\"white\",\"landcolor\":\"#E5ECF6\",\"showlakes\":true,\"showland\":true,\"subunitcolor\":\"white\"},\"hoverlabel\":{\"align\":\"left\"},\"hovermode\":\"closest\",\"mapbox\":{\"style\":\"light\"},\"paper_bgcolor\":\"white\",\"plot_bgcolor\":\"#E5ECF6\",\"polar\":{\"angularaxis\":{\"gridcolor\":\"white\",\"linecolor\":\"white\",\"ticks\":\"\"},\"bgcolor\":\"#E5ECF6\",\"radialaxis\":{\"gridcolor\":\"white\",\"linecolor\":\"white\",\"ticks\":\"\"}},\"scene\":{\"xaxis\":{\"backgroundcolor\":\"#E5ECF6\",\"gridcolor\":\"white\",\"gridwidth\":2,\"linecolor\":\"white\",\"showbackground\":true,\"ticks\":\"\",\"zerolinecolor\":\"white\"},\"yaxis\":{\"backgroundcolor\":\"#E5ECF6\",\"gridcolor\":\"white\",\"gridwidth\":2,\"linecolor\":\"white\",\"showbackground\":true,\"ticks\":\"\",\"zerolinecolor\":\"white\"},\"zaxis\":{\"backgroundcolor\":\"#E5ECF6\",\"gridcolor\":\"white\",\"gridwidth\":2,\"linecolor\":\"white\",\"showbackground\":true,\"ticks\":\"\",\"zerolinecolor\":\"white\"}},\"shapedefaults\":{\"line\":{\"color\":\"#2a3f5f\"}},\"ternary\":{\"aaxis\":{\"gridcolor\":\"white\",\"linecolor\":\"white\",\"ticks\":\"\"},\"baxis\":{\"gridcolor\":\"white\",\"linecolor\":\"white\",\"ticks\":\"\"},\"bgcolor\":\"#E5ECF6\",\"caxis\":{\"gridcolor\":\"white\",\"linecolor\":\"white\",\"ticks\":\"\"}},\"title\":{\"x\":0.05},\"xaxis\":{\"automargin\":true,\"gridcolor\":\"white\",\"linecolor\":\"white\",\"ticks\":\"\",\"title\":{\"standoff\":15},\"zerolinecolor\":\"white\",\"zerolinewidth\":2},\"yaxis\":{\"automargin\":true,\"gridcolor\":\"white\",\"linecolor\":\"white\",\"ticks\":\"\",\"title\":{\"standoff\":15},\"zerolinecolor\":\"white\",\"zerolinewidth\":2}}},\"title\":{\"text\":\"Gender of rapper\"},\"xaxis\":{\"anchor\":\"y\",\"domain\":[0.0,1.0],\"title\":{\"text\":\"x\"}},\"yaxis\":{\"anchor\":\"x\",\"domain\":[0.0,1.0],\"title\":{\"text\":\"y\"}}},                        {\"responsive\": true}                    ).then(function(){\n                            \nvar gd = document.getElementById('7c3d5759-128c-426e-8c71-29efdcc6b74f');\nvar x = new MutationObserver(function (mutations, observer) {{\n        var display = window.getComputedStyle(gd).display;\n        if (!display || display === 'none') {{\n            console.log([gd, 'removed!']);\n            Plotly.purge(gd);\n            observer.disconnect();\n        }}\n}});\n\n// Listen for the removal of the full notebook cells\nvar notebookContainer = gd.closest('#notebook-container');\nif (notebookContainer) {{\n    x.observe(notebookContainer, {childList: true});\n}}\n\n// Listen for the clearing of the current output cell\nvar outputEl = gd.closest('.output');\nif (outputEl) {{\n    x.observe(outputEl, {childList: true});\n}}\n\n                        })                };                            </script>        </div>\n</body>\n</html>"
     },
     "metadata": {},
     "output_type": "display_data"
    }
   ],
   "execution_count": null
  },
  {
   "cell_type": "code",
   "metadata": {
    "tags": [],
    "cell_id": "00007-096c0b0d-e5a1-4167-a418-075048d0edda",
    "deepnote_to_be_reexecuted": false,
    "source_hash": "68bee1a0",
    "execution_start": 1636180268099,
    "execution_millis": 1,
    "deepnote_cell_type": "code"
   },
   "source": "df.to_csv('df.csv')",
   "outputs": [],
   "execution_count": null
  },
  {
   "cell_type": "markdown",
   "source": "<a style='text-decoration:none;line-height:16px;display:flex;color:#5B5B62;padding:10px;justify-content:end;' href='https://deepnote.com?utm_source=created-in-deepnote-cell&projectId=1de9049b-281d-4fec-a876-f6c8713276a0' target=\"_blank\">\n<img alt='Created in deepnote.com' style='display:inline;max-height:16px;margin:0px;margin-right:7.5px;' src='data:image/svg+xml;base64,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' > </img>\nCreated in <span style='font-weight:600;margin-left:4px;'>Deepnote</span></a>",
   "metadata": {
    "tags": [],
    "created_in_deepnote_cell": true,
    "deepnote_cell_type": "markdown"
   }
  }
 ],
 "nbformat": 4,
 "nbformat_minor": 2,
 "metadata": {
  "orig_nbformat": 2,
  "deepnote": {
   "is_reactive": false
  },
  "deepnote_notebook_id": "65705f2f-baa3-46e2-a579-0b2a895f3c59",
  "deepnote_execution_queue": []
 }
}